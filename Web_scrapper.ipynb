{
  "nbformat": 4,
  "nbformat_minor": 0,
  "metadata": {
    "colab": {
      "provenance": []
    },
    "kernelspec": {
      "name": "python3",
      "display_name": "Python 3"
    },
    "language_info": {
      "name": "python"
    },
    "accelerator": "GPU",
    "gpuClass": "standard"
  },
  "cells": [
    {
      "cell_type": "code",
      "execution_count": null,
      "metadata": {
        "id": "DufqWj_z3BM_"
      },
      "outputs": [],
      "source": [
        "import regex as re"
      ]
    },
    {
      "cell_type": "code",
      "source": [
        "import re"
      ],
      "metadata": {
        "id": "IY0LLI8c3SHj"
      },
      "execution_count": null,
      "outputs": []
    },
    {
      "cell_type": "code",
      "source": [
        "st='''This article is about the former chairman of Tata Sons. For the philanthropist and grandfather of Tata, see Ratanji Tata. For the father of J. R. D. Tata, see Ratanji Dadabhoy Tata.\n",
        "Ratan Tata\n",
        "GBE FREng\n",
        "Ratan Tata photo.jpg\n",
        "Tata in 2010\n",
        "Born\tRatan Naval Tata\n",
        "28 December 1937 (age 84)\n",
        "Bombay, Bombay Presidency, British India\n",
        "(present-day Mumbai, Maharashtra, India)\n",
        "Alma mater\tCornell University (BArch)\n",
        "Occupation\tIndustrialist\n",
        "Title\tChairman Emeritus, Tata Sons and Tata Group[1]\n",
        "Term\t(1991–2012)\n",
        "(2016–2017)\n",
        "Predecessor\tJRD Tata\n",
        "Successor\tCyrus Mistry (2012–2016)\n",
        "Natarajan Chandrasekaran (2017–present)\n",
        "Parent\tNaval Tata\n",
        "Relatives\tTata family\n",
        "Awards\tAssam Baibhav (2021)\n",
        "Padma Vibhushan (2008)\n",
        "Maharashtra Bhushan (2006)\n",
        "Padma Bhushan (2000)\n",
        "Ratan Naval Tata (born 28 December 1937) is an Indian industrialist and former chairman of Tata Sons. He was also the chairman of the Tata Group from 1990 to 2012, serving also as interim chairman from October 2016 through February 2017. He continues to head its charitable trusts.[2][3] In 2008, he received the Padma Vibhushan, the second highest civilian honour in India, after receiving the Padma Bhushan, the third highest civilian honour in 2000.[4]\n",
        "\n",
        "He is the son of Naval Tata, who was adopted by Ratanji Tata, son of Jamsetji Tata, the founder of the Tata Group. He graduated from the Cornell University College of Architecture with a bachelor's degree in architecture, and the Harvard Business School through a management course he completed in 1975.[5] He joined Tata in 1961, where he worked on the shop floor of Tata Steel. He later succeeded J. R. D. Tata's as chairman of Tata Sons upon the latter's retirement in 1991. Under his tenure the Tata Group acquired Tetley, Jaguar Land Rover, and Corus, in an attempt to turn Tata from a largely India-centric group into a global business. Tata is also one of the largest philanthropists in the world, having donated around 60-65% of his income to charity.'''"
      ],
      "metadata": {
        "id": "-Ll6qijw3VEw"
      },
      "execution_count": null,
      "outputs": []
    },
    {
      "cell_type": "code",
      "source": [
        "pattern= '\\d\\d\\d\\d'"
      ],
      "metadata": {
        "id": "cPxvC-v938io"
      },
      "execution_count": null,
      "outputs": []
    },
    {
      "cell_type": "code",
      "source": [
        "l= re.findall(pattern,st)"
      ],
      "metadata": {
        "id": "CP3OropW3vjx"
      },
      "execution_count": null,
      "outputs": []
    },
    {
      "cell_type": "code",
      "source": [
        "l"
      ],
      "metadata": {
        "colab": {
          "base_uri": "https://localhost:8080/"
        },
        "id": "BVZWFbsS4OLJ",
        "outputId": "89c26ec8-bd11-4756-d606-2238482d54c3"
      },
      "execution_count": null,
      "outputs": [
        {
          "output_type": "execute_result",
          "data": {
            "text/plain": [
              "['2010',\n",
              " '1937',\n",
              " '1991',\n",
              " '2012',\n",
              " '2016',\n",
              " '2017',\n",
              " '2012',\n",
              " '2016',\n",
              " '2017',\n",
              " '2021',\n",
              " '2008',\n",
              " '2006',\n",
              " '2000',\n",
              " '1937',\n",
              " '1990',\n",
              " '2012',\n",
              " '2016',\n",
              " '2017',\n",
              " '2008',\n",
              " '2000',\n",
              " '1975',\n",
              " '1961',\n",
              " '1991']"
            ]
          },
          "metadata": {},
          "execution_count": 8
        }
      ]
    },
    {
      "cell_type": "code",
      "source": [
        "import pandas as pd \n",
        "import requests \n",
        "from bs4 import BeautifulSoup as bs\n",
        "from  urllib.request import urlopen\n",
        "import re\n",
        "\n",
        "#(.*?)\\Cick any picture to start the gaery"
      ],
      "metadata": {
        "id": "wvEXlN-P6_tU"
      },
      "execution_count": null,
      "outputs": []
    },
    {
      "cell_type": "code",
      "source": [
        "pattern= '(.*?)\\Cick any picture to start the gaery'\n",
        "text = pattern.encode('unicode_escape').decode('ascii')\n",
        "print(text)\n",
        "info=[]\n",
        "csvs=pd.read_csv('NewSpainDatadf.csv')\n",
        "for index,row in csvs.iterrows():\n",
        "  my_dict={}\n",
        "  urls=row['url']\n",
        "  headers={'user-agent':'Mozilla/5.0 (Windows NT 10.0; Win64; x64) AppleWebKit/537.36 (KHTML, like Gecko) Chrome/105.0.0.0 Safari/537.36'}\n",
        "  response=requests.get(urls,headers=headers)\n",
        "  html=response.content\n",
        "  soup=bs(html,'lxml')\n",
        "  my_dict['Name']=row['name']\n",
        "  dis=[]\n",
        "  for d in soup.find_all('p'):\n",
        "    print(d.text)\n",
        "    print(type(d.text))\n",
        "    break\n",
        "    #print(x)\n",
        "    dis.append(d.text)\n",
        "    l=re.findall(text,x)\n",
        "    #print(l)\n",
        "    #ans=l[0]\n",
        "    #my_dict['discription']=ans\n",
        "    #print(my_dict)\n",
        "      "
      ],
      "metadata": {
        "colab": {
          "base_uri": "https://localhost:8080/",
          "height": 695
        },
        "id": "kti14-iC7SWP",
        "outputId": "249f51e1-bcba-403c-bb28-e572c5272fdc"
      },
      "execution_count": null,
      "outputs": [
        {
          "output_type": "stream",
          "name": "stdout",
          "text": [
            "(.*?)\\\\Cick any picture to start the gaery\n",
            "The Alcazar of Seville is a group of palaces and gardens that date back to the Moorish occupation of Spain. It is a beautiful example of Mudejar architecture and along with Seville Cathedral and the General Archives of the Indies is a UNESCO World Heritage Site.\n",
            "<class 'str'>\n",
            "The Alhambra Palace in Andalucia is the most famous and the most visited monument in Spain. It is one of the most beautiful buildings in Europe and it is now a UNESCO World Heritage Site.\n",
            "<class 'str'>\n",
            "Almeria is in the Andalucia region of Southern Spain in the province of Almeria.\n",
            "<class 'str'>\n",
            "Almodovar del Rio is a small town set on the edge of the Parque Natural Hornachuelos. It is 24 kilometers from the town of Cordoba. The town is dominated by the Castillo de Almodovar that sits on top of a hill above the town.\n",
            "<class 'str'>\n",
            "Arcos de la Frontera is in the province of Cadiz in the Andalucia region of Spain. Arcos de la Frontera is considered to be one of the most beautiful villages in Spain. It is just 29 km from Jerez de la Frontera.\n",
            "<class 'str'>\n",
            "Baeza is in the province of Jaen in the region of Andalucia. Famous for its Renaissance architecture Baeza is a UNESCO World Heritage Site. Baeza is just 11km from Ubeda, another fabulous Renaissance town.\n",
            "<class 'str'>\n",
            "Cadiz is the capital of the province of Cadiz in the Andalusia region of Spain. It is on the coast 126km from Seville, the capital of Andalucia. Cadiz is Europe's oldest city. Originating from 1100 and founded by the Phoenicians, although legend has it that Hercules himself founded Cadiz. The city sits on a fist shaped piece of land sticking into the sea.\n",
            "<class 'str'>\n"
          ]
        },
        {
          "output_type": "error",
          "ename": "KeyboardInterrupt",
          "evalue": "ignored",
          "traceback": [
            "\u001b[0;31m---------------------------------------------------------------------------\u001b[0m",
            "\u001b[0;31mKeyboardInterrupt\u001b[0m                         Traceback (most recent call last)",
            "\u001b[0;32m<ipython-input-2-19f28191f35b>\u001b[0m in \u001b[0;36m<module>\u001b[0;34m\u001b[0m\n\u001b[1;32m      8\u001b[0m   \u001b[0murls\u001b[0m\u001b[0;34m=\u001b[0m\u001b[0mrow\u001b[0m\u001b[0;34m[\u001b[0m\u001b[0;34m'url'\u001b[0m\u001b[0;34m]\u001b[0m\u001b[0;34m\u001b[0m\u001b[0;34m\u001b[0m\u001b[0m\n\u001b[1;32m      9\u001b[0m   \u001b[0mheaders\u001b[0m\u001b[0;34m=\u001b[0m\u001b[0;34m{\u001b[0m\u001b[0;34m'user-agent'\u001b[0m\u001b[0;34m:\u001b[0m\u001b[0;34m'Mozilla/5.0 (Windows NT 10.0; Win64; x64) AppleWebKit/537.36 (KHTML, like Gecko) Chrome/105.0.0.0 Safari/537.36'\u001b[0m\u001b[0;34m}\u001b[0m\u001b[0;34m\u001b[0m\u001b[0;34m\u001b[0m\u001b[0m\n\u001b[0;32m---> 10\u001b[0;31m   \u001b[0mresponse\u001b[0m\u001b[0;34m=\u001b[0m\u001b[0mrequests\u001b[0m\u001b[0;34m.\u001b[0m\u001b[0mget\u001b[0m\u001b[0;34m(\u001b[0m\u001b[0murls\u001b[0m\u001b[0;34m,\u001b[0m\u001b[0mheaders\u001b[0m\u001b[0;34m=\u001b[0m\u001b[0mheaders\u001b[0m\u001b[0;34m)\u001b[0m\u001b[0;34m\u001b[0m\u001b[0;34m\u001b[0m\u001b[0m\n\u001b[0m\u001b[1;32m     11\u001b[0m   \u001b[0mhtml\u001b[0m\u001b[0;34m=\u001b[0m\u001b[0mresponse\u001b[0m\u001b[0;34m.\u001b[0m\u001b[0mcontent\u001b[0m\u001b[0;34m\u001b[0m\u001b[0;34m\u001b[0m\u001b[0m\n\u001b[1;32m     12\u001b[0m   \u001b[0msoup\u001b[0m\u001b[0;34m=\u001b[0m\u001b[0mbs\u001b[0m\u001b[0;34m(\u001b[0m\u001b[0mhtml\u001b[0m\u001b[0;34m,\u001b[0m\u001b[0;34m'lxml'\u001b[0m\u001b[0;34m)\u001b[0m\u001b[0;34m\u001b[0m\u001b[0;34m\u001b[0m\u001b[0m\n",
            "\u001b[0;32m/usr/local/lib/python3.8/dist-packages/requests/api.py\u001b[0m in \u001b[0;36mget\u001b[0;34m(url, params, **kwargs)\u001b[0m\n\u001b[1;32m     74\u001b[0m \u001b[0;34m\u001b[0m\u001b[0m\n\u001b[1;32m     75\u001b[0m     \u001b[0mkwargs\u001b[0m\u001b[0;34m.\u001b[0m\u001b[0msetdefault\u001b[0m\u001b[0;34m(\u001b[0m\u001b[0;34m'allow_redirects'\u001b[0m\u001b[0;34m,\u001b[0m \u001b[0;32mTrue\u001b[0m\u001b[0;34m)\u001b[0m\u001b[0;34m\u001b[0m\u001b[0;34m\u001b[0m\u001b[0m\n\u001b[0;32m---> 76\u001b[0;31m     \u001b[0;32mreturn\u001b[0m \u001b[0mrequest\u001b[0m\u001b[0;34m(\u001b[0m\u001b[0;34m'get'\u001b[0m\u001b[0;34m,\u001b[0m \u001b[0murl\u001b[0m\u001b[0;34m,\u001b[0m \u001b[0mparams\u001b[0m\u001b[0;34m=\u001b[0m\u001b[0mparams\u001b[0m\u001b[0;34m,\u001b[0m \u001b[0;34m**\u001b[0m\u001b[0mkwargs\u001b[0m\u001b[0;34m)\u001b[0m\u001b[0;34m\u001b[0m\u001b[0;34m\u001b[0m\u001b[0m\n\u001b[0m\u001b[1;32m     77\u001b[0m \u001b[0;34m\u001b[0m\u001b[0m\n\u001b[1;32m     78\u001b[0m \u001b[0;34m\u001b[0m\u001b[0m\n",
            "\u001b[0;32m/usr/local/lib/python3.8/dist-packages/requests/api.py\u001b[0m in \u001b[0;36mrequest\u001b[0;34m(method, url, **kwargs)\u001b[0m\n\u001b[1;32m     59\u001b[0m     \u001b[0;31m# cases, and look like a memory leak in others.\u001b[0m\u001b[0;34m\u001b[0m\u001b[0;34m\u001b[0m\u001b[0;34m\u001b[0m\u001b[0m\n\u001b[1;32m     60\u001b[0m     \u001b[0;32mwith\u001b[0m \u001b[0msessions\u001b[0m\u001b[0;34m.\u001b[0m\u001b[0mSession\u001b[0m\u001b[0;34m(\u001b[0m\u001b[0;34m)\u001b[0m \u001b[0;32mas\u001b[0m \u001b[0msession\u001b[0m\u001b[0;34m:\u001b[0m\u001b[0;34m\u001b[0m\u001b[0;34m\u001b[0m\u001b[0m\n\u001b[0;32m---> 61\u001b[0;31m         \u001b[0;32mreturn\u001b[0m \u001b[0msession\u001b[0m\u001b[0;34m.\u001b[0m\u001b[0mrequest\u001b[0m\u001b[0;34m(\u001b[0m\u001b[0mmethod\u001b[0m\u001b[0;34m=\u001b[0m\u001b[0mmethod\u001b[0m\u001b[0;34m,\u001b[0m \u001b[0murl\u001b[0m\u001b[0;34m=\u001b[0m\u001b[0murl\u001b[0m\u001b[0;34m,\u001b[0m \u001b[0;34m**\u001b[0m\u001b[0mkwargs\u001b[0m\u001b[0;34m)\u001b[0m\u001b[0;34m\u001b[0m\u001b[0;34m\u001b[0m\u001b[0m\n\u001b[0m\u001b[1;32m     62\u001b[0m \u001b[0;34m\u001b[0m\u001b[0m\n\u001b[1;32m     63\u001b[0m \u001b[0;34m\u001b[0m\u001b[0m\n",
            "\u001b[0;32m/usr/local/lib/python3.8/dist-packages/requests/sessions.py\u001b[0m in \u001b[0;36mrequest\u001b[0;34m(self, method, url, params, data, headers, cookies, files, auth, timeout, allow_redirects, proxies, hooks, stream, verify, cert, json)\u001b[0m\n\u001b[1;32m    528\u001b[0m         }\n\u001b[1;32m    529\u001b[0m         \u001b[0msend_kwargs\u001b[0m\u001b[0;34m.\u001b[0m\u001b[0mupdate\u001b[0m\u001b[0;34m(\u001b[0m\u001b[0msettings\u001b[0m\u001b[0;34m)\u001b[0m\u001b[0;34m\u001b[0m\u001b[0;34m\u001b[0m\u001b[0m\n\u001b[0;32m--> 530\u001b[0;31m         \u001b[0mresp\u001b[0m \u001b[0;34m=\u001b[0m \u001b[0mself\u001b[0m\u001b[0;34m.\u001b[0m\u001b[0msend\u001b[0m\u001b[0;34m(\u001b[0m\u001b[0mprep\u001b[0m\u001b[0;34m,\u001b[0m \u001b[0;34m**\u001b[0m\u001b[0msend_kwargs\u001b[0m\u001b[0;34m)\u001b[0m\u001b[0;34m\u001b[0m\u001b[0;34m\u001b[0m\u001b[0m\n\u001b[0m\u001b[1;32m    531\u001b[0m \u001b[0;34m\u001b[0m\u001b[0m\n\u001b[1;32m    532\u001b[0m         \u001b[0;32mreturn\u001b[0m \u001b[0mresp\u001b[0m\u001b[0;34m\u001b[0m\u001b[0;34m\u001b[0m\u001b[0m\n",
            "\u001b[0;32m/usr/local/lib/python3.8/dist-packages/requests/sessions.py\u001b[0m in \u001b[0;36msend\u001b[0;34m(self, request, **kwargs)\u001b[0m\n\u001b[1;32m    641\u001b[0m \u001b[0;34m\u001b[0m\u001b[0m\n\u001b[1;32m    642\u001b[0m         \u001b[0;31m# Send the request\u001b[0m\u001b[0;34m\u001b[0m\u001b[0;34m\u001b[0m\u001b[0;34m\u001b[0m\u001b[0m\n\u001b[0;32m--> 643\u001b[0;31m         \u001b[0mr\u001b[0m \u001b[0;34m=\u001b[0m \u001b[0madapter\u001b[0m\u001b[0;34m.\u001b[0m\u001b[0msend\u001b[0m\u001b[0;34m(\u001b[0m\u001b[0mrequest\u001b[0m\u001b[0;34m,\u001b[0m \u001b[0;34m**\u001b[0m\u001b[0mkwargs\u001b[0m\u001b[0;34m)\u001b[0m\u001b[0;34m\u001b[0m\u001b[0;34m\u001b[0m\u001b[0m\n\u001b[0m\u001b[1;32m    644\u001b[0m \u001b[0;34m\u001b[0m\u001b[0m\n\u001b[1;32m    645\u001b[0m         \u001b[0;31m# Total elapsed time of the request (approximately)\u001b[0m\u001b[0;34m\u001b[0m\u001b[0;34m\u001b[0m\u001b[0;34m\u001b[0m\u001b[0m\n",
            "\u001b[0;32m/usr/local/lib/python3.8/dist-packages/requests/adapters.py\u001b[0m in \u001b[0;36msend\u001b[0;34m(self, request, stream, timeout, verify, cert, proxies)\u001b[0m\n\u001b[1;32m    437\u001b[0m         \u001b[0;32mtry\u001b[0m\u001b[0;34m:\u001b[0m\u001b[0;34m\u001b[0m\u001b[0;34m\u001b[0m\u001b[0m\n\u001b[1;32m    438\u001b[0m             \u001b[0;32mif\u001b[0m \u001b[0;32mnot\u001b[0m \u001b[0mchunked\u001b[0m\u001b[0;34m:\u001b[0m\u001b[0;34m\u001b[0m\u001b[0;34m\u001b[0m\u001b[0m\n\u001b[0;32m--> 439\u001b[0;31m                 resp = conn.urlopen(\n\u001b[0m\u001b[1;32m    440\u001b[0m                     \u001b[0mmethod\u001b[0m\u001b[0;34m=\u001b[0m\u001b[0mrequest\u001b[0m\u001b[0;34m.\u001b[0m\u001b[0mmethod\u001b[0m\u001b[0;34m,\u001b[0m\u001b[0;34m\u001b[0m\u001b[0;34m\u001b[0m\u001b[0m\n\u001b[1;32m    441\u001b[0m                     \u001b[0murl\u001b[0m\u001b[0;34m=\u001b[0m\u001b[0murl\u001b[0m\u001b[0;34m,\u001b[0m\u001b[0;34m\u001b[0m\u001b[0;34m\u001b[0m\u001b[0m\n",
            "\u001b[0;32m/usr/local/lib/python3.8/dist-packages/urllib3/connectionpool.py\u001b[0m in \u001b[0;36murlopen\u001b[0;34m(self, method, url, body, headers, retries, redirect, assert_same_host, timeout, pool_timeout, release_conn, chunked, body_pos, **response_kw)\u001b[0m\n\u001b[1;32m    595\u001b[0m \u001b[0;34m\u001b[0m\u001b[0m\n\u001b[1;32m    596\u001b[0m             \u001b[0;31m# Make the request on the httplib connection object.\u001b[0m\u001b[0;34m\u001b[0m\u001b[0;34m\u001b[0m\u001b[0;34m\u001b[0m\u001b[0m\n\u001b[0;32m--> 597\u001b[0;31m             httplib_response = self._make_request(conn, method, url,\n\u001b[0m\u001b[1;32m    598\u001b[0m                                                   \u001b[0mtimeout\u001b[0m\u001b[0;34m=\u001b[0m\u001b[0mtimeout_obj\u001b[0m\u001b[0;34m,\u001b[0m\u001b[0;34m\u001b[0m\u001b[0;34m\u001b[0m\u001b[0m\n\u001b[1;32m    599\u001b[0m                                                   \u001b[0mbody\u001b[0m\u001b[0;34m=\u001b[0m\u001b[0mbody\u001b[0m\u001b[0;34m,\u001b[0m \u001b[0mheaders\u001b[0m\u001b[0;34m=\u001b[0m\u001b[0mheaders\u001b[0m\u001b[0;34m,\u001b[0m\u001b[0;34m\u001b[0m\u001b[0;34m\u001b[0m\u001b[0m\n",
            "\u001b[0;32m/usr/local/lib/python3.8/dist-packages/urllib3/connectionpool.py\u001b[0m in \u001b[0;36m_make_request\u001b[0;34m(self, conn, method, url, timeout, chunked, **httplib_request_kw)\u001b[0m\n\u001b[1;32m    341\u001b[0m         \u001b[0;31m# Trigger any extra validation we need to do.\u001b[0m\u001b[0;34m\u001b[0m\u001b[0;34m\u001b[0m\u001b[0;34m\u001b[0m\u001b[0m\n\u001b[1;32m    342\u001b[0m         \u001b[0;32mtry\u001b[0m\u001b[0;34m:\u001b[0m\u001b[0;34m\u001b[0m\u001b[0;34m\u001b[0m\u001b[0m\n\u001b[0;32m--> 343\u001b[0;31m             \u001b[0mself\u001b[0m\u001b[0;34m.\u001b[0m\u001b[0m_validate_conn\u001b[0m\u001b[0;34m(\u001b[0m\u001b[0mconn\u001b[0m\u001b[0;34m)\u001b[0m\u001b[0;34m\u001b[0m\u001b[0;34m\u001b[0m\u001b[0m\n\u001b[0m\u001b[1;32m    344\u001b[0m         \u001b[0;32mexcept\u001b[0m \u001b[0;34m(\u001b[0m\u001b[0mSocketTimeout\u001b[0m\u001b[0;34m,\u001b[0m \u001b[0mBaseSSLError\u001b[0m\u001b[0;34m)\u001b[0m \u001b[0;32mas\u001b[0m \u001b[0me\u001b[0m\u001b[0;34m:\u001b[0m\u001b[0;34m\u001b[0m\u001b[0;34m\u001b[0m\u001b[0m\n\u001b[1;32m    345\u001b[0m             \u001b[0;31m# Py2 raises this as a BaseSSLError, Py3 raises it as socket timeout.\u001b[0m\u001b[0;34m\u001b[0m\u001b[0;34m\u001b[0m\u001b[0;34m\u001b[0m\u001b[0m\n",
            "\u001b[0;32m/usr/local/lib/python3.8/dist-packages/urllib3/connectionpool.py\u001b[0m in \u001b[0;36m_validate_conn\u001b[0;34m(self, conn)\u001b[0m\n\u001b[1;32m    837\u001b[0m         \u001b[0;31m# Force connect early to allow us to validate the connection.\u001b[0m\u001b[0;34m\u001b[0m\u001b[0;34m\u001b[0m\u001b[0;34m\u001b[0m\u001b[0m\n\u001b[1;32m    838\u001b[0m         \u001b[0;32mif\u001b[0m \u001b[0;32mnot\u001b[0m \u001b[0mgetattr\u001b[0m\u001b[0;34m(\u001b[0m\u001b[0mconn\u001b[0m\u001b[0;34m,\u001b[0m \u001b[0;34m'sock'\u001b[0m\u001b[0;34m,\u001b[0m \u001b[0;32mNone\u001b[0m\u001b[0;34m)\u001b[0m\u001b[0;34m:\u001b[0m  \u001b[0;31m# AppEngine might not have  `.sock`\u001b[0m\u001b[0;34m\u001b[0m\u001b[0;34m\u001b[0m\u001b[0m\n\u001b[0;32m--> 839\u001b[0;31m             \u001b[0mconn\u001b[0m\u001b[0;34m.\u001b[0m\u001b[0mconnect\u001b[0m\u001b[0;34m(\u001b[0m\u001b[0;34m)\u001b[0m\u001b[0;34m\u001b[0m\u001b[0;34m\u001b[0m\u001b[0m\n\u001b[0m\u001b[1;32m    840\u001b[0m \u001b[0;34m\u001b[0m\u001b[0m\n\u001b[1;32m    841\u001b[0m         \u001b[0;32mif\u001b[0m \u001b[0;32mnot\u001b[0m \u001b[0mconn\u001b[0m\u001b[0;34m.\u001b[0m\u001b[0mis_verified\u001b[0m\u001b[0;34m:\u001b[0m\u001b[0;34m\u001b[0m\u001b[0;34m\u001b[0m\u001b[0m\n",
            "\u001b[0;32m/usr/local/lib/python3.8/dist-packages/urllib3/connection.py\u001b[0m in \u001b[0;36mconnect\u001b[0;34m(self)\u001b[0m\n\u001b[1;32m    335\u001b[0m         \u001b[0mcontext\u001b[0m \u001b[0;34m=\u001b[0m \u001b[0mself\u001b[0m\u001b[0;34m.\u001b[0m\u001b[0mssl_context\u001b[0m\u001b[0;34m\u001b[0m\u001b[0;34m\u001b[0m\u001b[0m\n\u001b[1;32m    336\u001b[0m         \u001b[0mcontext\u001b[0m\u001b[0;34m.\u001b[0m\u001b[0mverify_mode\u001b[0m \u001b[0;34m=\u001b[0m \u001b[0mresolve_cert_reqs\u001b[0m\u001b[0;34m(\u001b[0m\u001b[0mself\u001b[0m\u001b[0;34m.\u001b[0m\u001b[0mcert_reqs\u001b[0m\u001b[0;34m)\u001b[0m\u001b[0;34m\u001b[0m\u001b[0;34m\u001b[0m\u001b[0m\n\u001b[0;32m--> 337\u001b[0;31m         self.sock = ssl_wrap_socket(\n\u001b[0m\u001b[1;32m    338\u001b[0m             \u001b[0msock\u001b[0m\u001b[0;34m=\u001b[0m\u001b[0mconn\u001b[0m\u001b[0;34m,\u001b[0m\u001b[0;34m\u001b[0m\u001b[0;34m\u001b[0m\u001b[0m\n\u001b[1;32m    339\u001b[0m             \u001b[0mkeyfile\u001b[0m\u001b[0;34m=\u001b[0m\u001b[0mself\u001b[0m\u001b[0;34m.\u001b[0m\u001b[0mkey_file\u001b[0m\u001b[0;34m,\u001b[0m\u001b[0;34m\u001b[0m\u001b[0;34m\u001b[0m\u001b[0m\n",
            "\u001b[0;32m/usr/local/lib/python3.8/dist-packages/urllib3/util/ssl_.py\u001b[0m in \u001b[0;36mssl_wrap_socket\u001b[0;34m(sock, keyfile, certfile, cert_reqs, ca_certs, server_hostname, ssl_version, ciphers, ssl_context, ca_cert_dir)\u001b[0m\n\u001b[1;32m    343\u001b[0m             or IS_SECURETRANSPORT):\n\u001b[1;32m    344\u001b[0m         \u001b[0;32mif\u001b[0m \u001b[0mHAS_SNI\u001b[0m \u001b[0;32mand\u001b[0m \u001b[0mserver_hostname\u001b[0m \u001b[0;32mis\u001b[0m \u001b[0;32mnot\u001b[0m \u001b[0;32mNone\u001b[0m\u001b[0;34m:\u001b[0m\u001b[0;34m\u001b[0m\u001b[0;34m\u001b[0m\u001b[0m\n\u001b[0;32m--> 345\u001b[0;31m             \u001b[0;32mreturn\u001b[0m \u001b[0mcontext\u001b[0m\u001b[0;34m.\u001b[0m\u001b[0mwrap_socket\u001b[0m\u001b[0;34m(\u001b[0m\u001b[0msock\u001b[0m\u001b[0;34m,\u001b[0m \u001b[0mserver_hostname\u001b[0m\u001b[0;34m=\u001b[0m\u001b[0mserver_hostname\u001b[0m\u001b[0;34m)\u001b[0m\u001b[0;34m\u001b[0m\u001b[0;34m\u001b[0m\u001b[0m\n\u001b[0m\u001b[1;32m    346\u001b[0m \u001b[0;34m\u001b[0m\u001b[0m\n\u001b[1;32m    347\u001b[0m         warnings.warn(\n",
            "\u001b[0;32m/usr/lib/python3.8/ssl.py\u001b[0m in \u001b[0;36mwrap_socket\u001b[0;34m(self, sock, server_side, do_handshake_on_connect, suppress_ragged_eofs, server_hostname, session)\u001b[0m\n\u001b[1;32m    498\u001b[0m         \u001b[0;31m# SSLSocket class handles server_hostname encoding before it calls\u001b[0m\u001b[0;34m\u001b[0m\u001b[0;34m\u001b[0m\u001b[0;34m\u001b[0m\u001b[0m\n\u001b[1;32m    499\u001b[0m         \u001b[0;31m# ctx._wrap_socket()\u001b[0m\u001b[0;34m\u001b[0m\u001b[0;34m\u001b[0m\u001b[0;34m\u001b[0m\u001b[0m\n\u001b[0;32m--> 500\u001b[0;31m         return self.sslsocket_class._create(\n\u001b[0m\u001b[1;32m    501\u001b[0m             \u001b[0msock\u001b[0m\u001b[0;34m=\u001b[0m\u001b[0msock\u001b[0m\u001b[0;34m,\u001b[0m\u001b[0;34m\u001b[0m\u001b[0;34m\u001b[0m\u001b[0m\n\u001b[1;32m    502\u001b[0m             \u001b[0mserver_side\u001b[0m\u001b[0;34m=\u001b[0m\u001b[0mserver_side\u001b[0m\u001b[0;34m,\u001b[0m\u001b[0;34m\u001b[0m\u001b[0;34m\u001b[0m\u001b[0m\n",
            "\u001b[0;32m/usr/lib/python3.8/ssl.py\u001b[0m in \u001b[0;36m_create\u001b[0;34m(cls, sock, server_side, do_handshake_on_connect, suppress_ragged_eofs, server_hostname, context, session)\u001b[0m\n\u001b[1;32m   1038\u001b[0m                         \u001b[0;31m# non-blocking\u001b[0m\u001b[0;34m\u001b[0m\u001b[0;34m\u001b[0m\u001b[0;34m\u001b[0m\u001b[0m\n\u001b[1;32m   1039\u001b[0m                         \u001b[0;32mraise\u001b[0m \u001b[0mValueError\u001b[0m\u001b[0;34m(\u001b[0m\u001b[0;34m\"do_handshake_on_connect should not be specified for non-blocking sockets\"\u001b[0m\u001b[0;34m)\u001b[0m\u001b[0;34m\u001b[0m\u001b[0;34m\u001b[0m\u001b[0m\n\u001b[0;32m-> 1040\u001b[0;31m                     \u001b[0mself\u001b[0m\u001b[0;34m.\u001b[0m\u001b[0mdo_handshake\u001b[0m\u001b[0;34m(\u001b[0m\u001b[0;34m)\u001b[0m\u001b[0;34m\u001b[0m\u001b[0;34m\u001b[0m\u001b[0m\n\u001b[0m\u001b[1;32m   1041\u001b[0m             \u001b[0;32mexcept\u001b[0m \u001b[0;34m(\u001b[0m\u001b[0mOSError\u001b[0m\u001b[0;34m,\u001b[0m \u001b[0mValueError\u001b[0m\u001b[0;34m)\u001b[0m\u001b[0;34m:\u001b[0m\u001b[0;34m\u001b[0m\u001b[0;34m\u001b[0m\u001b[0m\n\u001b[1;32m   1042\u001b[0m                 \u001b[0mself\u001b[0m\u001b[0;34m.\u001b[0m\u001b[0mclose\u001b[0m\u001b[0;34m(\u001b[0m\u001b[0;34m)\u001b[0m\u001b[0;34m\u001b[0m\u001b[0;34m\u001b[0m\u001b[0m\n",
            "\u001b[0;32m/usr/lib/python3.8/ssl.py\u001b[0m in \u001b[0;36mdo_handshake\u001b[0;34m(self, block)\u001b[0m\n\u001b[1;32m   1307\u001b[0m             \u001b[0;32mif\u001b[0m \u001b[0mtimeout\u001b[0m \u001b[0;34m==\u001b[0m \u001b[0;36m0.0\u001b[0m \u001b[0;32mand\u001b[0m \u001b[0mblock\u001b[0m\u001b[0;34m:\u001b[0m\u001b[0;34m\u001b[0m\u001b[0;34m\u001b[0m\u001b[0m\n\u001b[1;32m   1308\u001b[0m                 \u001b[0mself\u001b[0m\u001b[0;34m.\u001b[0m\u001b[0msettimeout\u001b[0m\u001b[0;34m(\u001b[0m\u001b[0;32mNone\u001b[0m\u001b[0;34m)\u001b[0m\u001b[0;34m\u001b[0m\u001b[0;34m\u001b[0m\u001b[0m\n\u001b[0;32m-> 1309\u001b[0;31m             \u001b[0mself\u001b[0m\u001b[0;34m.\u001b[0m\u001b[0m_sslobj\u001b[0m\u001b[0;34m.\u001b[0m\u001b[0mdo_handshake\u001b[0m\u001b[0;34m(\u001b[0m\u001b[0;34m)\u001b[0m\u001b[0;34m\u001b[0m\u001b[0;34m\u001b[0m\u001b[0m\n\u001b[0m\u001b[1;32m   1310\u001b[0m         \u001b[0;32mfinally\u001b[0m\u001b[0;34m:\u001b[0m\u001b[0;34m\u001b[0m\u001b[0;34m\u001b[0m\u001b[0m\n\u001b[1;32m   1311\u001b[0m             \u001b[0mself\u001b[0m\u001b[0;34m.\u001b[0m\u001b[0msettimeout\u001b[0m\u001b[0;34m(\u001b[0m\u001b[0mtimeout\u001b[0m\u001b[0;34m)\u001b[0m\u001b[0;34m\u001b[0m\u001b[0;34m\u001b[0m\u001b[0m\n",
            "\u001b[0;31mKeyboardInterrupt\u001b[0m: "
          ]
        }
      ]
    },
    {
      "cell_type": "code",
      "source": [],
      "metadata": {
        "id": "VZaUyJlr7SeT"
      },
      "execution_count": null,
      "outputs": []
    },
    {
      "cell_type": "code",
      "source": [
        "pattern= '(.*?)\\Cick any picture to start the gaery'\n",
        "text = pattern.encode('unicode_escape').decode('ascii')\n",
        "print(text)\n",
        "info=[]\n",
        "csvs=pd.read_csv('NewSpainDatadf.csv')\n",
        "for index,row in csvs.iterrows():\n",
        "  my_dict={}\n",
        "  urls=row['url']\n",
        "  headers={'user-agent':'Mozilla/5.0 (Windows NT 10.0; Win64; x64) AppleWebKit/537.36 (KHTML, like Gecko) Chrome/105.0.0.0 Safari/537.36'}\n",
        "  response=requests.get(urls,headers=headers)\n",
        "  html=response.content\n",
        "  soup=bs(html,'lxml')\n",
        "  my_dict['Name']=row['name']\n",
        "  dis=[]\n",
        "  for d in soup.find_all('p'):\n",
        "    dis.append(d.text)\n",
        "    my_dict['discription']=dis\n",
        "    info.append(my_dict)\n",
        "  print(my_dict)"
      ],
      "metadata": {
        "id": "XXBYVPui7ShT",
        "colab": {
          "base_uri": "https://localhost:8080/",
          "height": 606
        },
        "outputId": "68bed147-17d3-43be-8955-24d84da1e1be"
      },
      "execution_count": null,
      "outputs": [
        {
          "output_type": "stream",
          "name": "stdout",
          "text": [
            "(.*?)\\\\Cick any picture to start the gaery\n",
            "{'Name': 'Alcazar of Seville (Seville Province)', 'discription': ['The Alcazar of Seville is a group of palaces and gardens that date back to the Moorish occupation of Spain. It is a beautiful example of Mudejar architecture and along with Seville Cathedral and the General Archives of the Indies is a UNESCO World Heritage Site.', 'The Alcazar was initially a Moorish fortress and then in the 14th century King Peter of Castile converted it to a palace but continuing the exisiting Islamic architectural style.', 'The entrance is through the large Puerta del Leon and leads to the Patio del Leon and the large open courtyard of the Patio de la Monteria. Surrounding the Patio de la Monteria are the main buildings of the complex.\\xa0', 'To the right is the Casa de la Contratcion which houses an exhibition of beautiful tiles from throughout the centuries. There are also some patio gardens to see. However the main building is the Palacio del Rey Don Pedro which faces you as you enter the Monteria courtyard.', '', 'In this building is the fabulous Patio de las Doncellas which is surrounded by beautifully decorated arches covered in tiles from the 16th century decorated in Mudejar style. There are lots of little rooms all covered in tiles and all very beautiful.', 'Patio de las Doncellas means \"Courtyard of the Maidens\" and apparently alludes to the 100 virgins demanded by the Moors every year as tribute from the Christian kingdoms of Iberia. In the centre of the courtyard is a pond with sunken gardens on each side.', 'The upper storey of the patio was added by Charles V in the 16th century and is a mix of Renaissance and Mudejar in style.', 'From the Patio de las Doncellas there is an arched doorway to the Salon de Embajadores. The arch contains inscriptions saying \"only God is victorious\" in Arabic. The walls are now hung with portraits of the kings of Castile.', 'The neighbouring Patio de las Munecas contains columns from the palace of Medina Azahara in Cordoba. Notice the female heads on top of the columns.', '', 'The gardens of the Alcazar are a highlight of the visit. They are stunning with their palm trees, fruit trees, clipped hedges and ponds, rills and fountains but above all the Galeria de Grutescos is magnificent. This is a Muslim wall transformed into an Italian loggia by Italian designer Vermondo Resta. From here you get a wonderful view over the formally laid out gardens and over the palace and ponds.', 'Various locations in Spain feature in Game of Thrones. The Alcazar of Seville and its water gardens feature as the town of Sunspear capital of Dorne, the most southerly of the seven kingdoms of Westeross. Visitors to the Alcazar were notably more during our recent visit to Seville and now you need to arrive early or prebook tickets to avoid a queue.', 'Other filming has taken place at the Alcazar including Ridley Scott\\'s film \"the Kingdom of Heaven\" where the Patio de las Doncellas was the location for the court of Jerusalem, allbeit paved with marble rather than with its pool and garden.', 'Of course there are many more sights to see in Seville including the cathedral, the Giralda tower, the Santa Cruz district, the El-Arenal district and the Plaza de Espana.', 'Cordoba and Osuna are both beautiful town which can be visited in a day or overnight trip from Seville. Cordoba is home to the fabulous Mesquita and Osuna contains many fine Baroque buildings. Both are also Game of Thrones locations.', 'Ronda is a magical location which is well worth an overnight trip from Seville.', 'You can find more local travel ideas in the Seville guide and the Andalucia guide.', 'Click any picture to start the gallery', 'Seville - Giralda', \"The Giralda tower is Seville's iconic bell tower with great views from the top. It is a huge ramp to the top rather than steps and so relatively easy to climb.\", 'Seville Bullring', 'Seville bullring is a beautiful building and one of the oldest bullrings in the world.', 'Seville- El Arenal', \"Riverside district of Seville and home to Seville's bullring. This is a quieter part of Seville and nice for a riverside walk.\", 'Casa de Pilatos', 'The Casa de Pilatos is a 16th century palace and gardens in Seville. It is Moorish in style and has two courtyard gardens.', 'Seville - More Places to Visit', 'More places to visit in the fabulous town of Seville. Seville is packed with places worth visiting.', 'Seville Cathedral', 'Seville is home to the largest Gothic cathedral in the world. The cathedral is well worth visiting.', '...or see all our recommended places to visit in Andalucia', 'Spain This Way - copyright 2009 - 2022']}\n",
            "{'Name': 'Alhambra Palace (Granada Province)', 'discription': ['The Alhambra Palace in Andalucia is the most famous and the most visited monument in Spain. It is one of the most beautiful buildings in Europe and it is now a UNESCO World Heritage Site.', 'The Alhambra was built by various caliphs of the Nasrid dynasty who wanted to create something which counteracted the reality of their waning power. The Alhambra was their idea of paradise on Earth. It is a stunningly beautiful complex of Arabic buildings and gardens on the edge of the town of Granada.', \"In 2007 the Alhambra was voted fourth in the top twelve 'Treasures of Spain' national TV and radio competition.\", 'Spain This Way comment: The Alhambra Palace and Generalife are incredibly beautiful and a highlight of a visit to Spain. It is very popular though and you need to book ahead to be sure to be able to visit.', '', 'The Alhambra Palace began life as a fortress, a palace and a small city and the fortress dates back to the 9th century. The fortress, or Alcazar, was enlarged in the 13th century with the addition of its great towers. During this period when the Nasrid people ruled the fortifications were also built and a wall and towers were built all around its perimeter.', 'The Alcazaba is close to the entrance of the Alhambra. It is topped by the Torre de la Vela where the cross and banner of St James were erected after victory over the Moors. Boabdil, the leader of the Moors at the time, wept at the sight and was famously told by his mother \"Do not weep like a woman for what you could not defend like a man\"', \"The Nasrid palaces date back to the 14th century and most work was completed by three main Sultans, Isma'il, Yusuf I and his son Muhammed V. There are three main palaces, the Mexuar, Comares and Lions.\", \"The Mexuar has a large audience hall which is accessed via two courtyards, the Court of the Mosque and the Court of the Machuca. It was built for Isma'il in the early 14th century though later transformed by Muhammed V and then converted into a Christian chapel in the 16th century.\", 'The Palace of Comares was built during the reign of Yusuf I and became the main residence of the sultan and his family. The Court of the Myrtles, named after the myrtle bushes growing in the courtyard was at the heart of palace life and the other rooms radiate out from here. It is a beautiful Moorish style patio with a long pool of perfectly still water surrounded by arcades whose arches are topped with beautiful, intricate details.', 'The Chamber of Comares, the Gate of Justice and the Baths are some of the other key parts of this palace to see during your visit. The Salon de Embajadores was the throne room of the palace and is covered in tiled decoration and has a ceiling representing the seven heavens of the Muslims.', 'In the second half of the fourteenth century Muhammed V carried out some major alterations to the Alhambra and many of the rooms were decorated or redecorated and it is to this period we owe the most beautiful of the decorations.', 'The Palace of the Lions was created as a less traditional structure and surrounds two main dwelling areas. The Court of Lions, the Hall of the Abencerrages, the Hall of the Kings, the Hall of the Two Sisters and the Ajimecas Gallery and the Lindaraja Balcony are all to be found in the Palace of the Lions.', \"The Court of Lions (Patio de los Leones) is the most beautiful in the Alhambra and was the harem for the palace. Surrounded by beautiful arcades with marble columns there is a fountain with stone lions in the centre. Some of the palace's best rooms open onto this patio.\", '', \"The Hall of the Abencerrajes is one of the rooms opening onto the Patio de los Leones and has a simply stunning ceiling. The room has a grisly history though as here Abu'l-Hasan murdered sixteen princes of a rival family whose chief had fallen in love with his favourite daughter.\", 'The Palacio del Partal is the oldest palace in the Alhambra but now all that remains is another patio with a large rectangular pool of still water - so important to Moorish garden design- and an arched pavilion with beautiful slender arches. Also in the Alhambra are the beautiful gardens scattered throughout the grounds.', \"The apartments of Washington Irving can be visited. He lived here whilst writing his book 'the Tales of the Alhambra'. This book led to the Alhambra being declared a national monument, its decline halted, and decades of careful renovation of the palace followed.\", 'The Palace of Carlos V is an excellent example of Renaissance architecture but rather at odds with the delicate Moorish architecture in the rest of the Alhambra. Inside is the Museo de Bellas Artes and the Museo de la Alhambra. The Museo de la Alhambra holds lots of items found during the renovation of the palace and the star attraction is the Alhambra vase which is a vase which stands one and a half meters tall and glazed a lovely bule and gold with gazelles decorating it.', 'The Generalife served as a garden and recreational estate for the palace and sits outside the walls to the east of the Alhambra. A visit to the Generalife is included in the entry ticket and it is very beautiful with its Moorish gardens featuring long water rills full of fountains and long flower beds.Indeed the name Generalife means \"garden of the architect\". The Generalife has a number of orchards and terraces and great views of both the Alhambra and the city.', 'The palace was built between the 12th and 14th century and the Royal Chamber has some particularly fine plasterwork', '', 'It takes about 20 minutes to walk from the Alhambra Palace to the Generalife.', 'The Alhambra is open every day except for 25 December and 1 January. From 1 April to mid October it is open from 08.30 to 20.00 and from mid October to 31 March from 08.30 to 18.00. It is strongly recommended that you order your tickets on line before going as tickets sell out especially during the summer months.', 'The Alhambra is on the edge of the town of Granada which is rather disappointing given the number of visitors who come here every year. Non the less it has a few sights of interest.', 'Guadix is a fascinating troglodyte town where many of its inhabitants still live underground.', 'You can find more local travel ideas in the Granada guide and the Andalucia guide.', 'Click any picture to start the gallery', 'Granada', \"Granada is the home of the fabulous Alhambra and Genaralife. These should be on everyone's bucketlist!\", 'Guadix', 'Guadix is a city with a troglodyte area near to Granada. It is fascinating to visit and many are still lived in.', 'Nerja Caves', 'The Caves of Nerja is a huge cave system and home to the largest stalagmite in the world.', 'Zuheros', \"Zuheros is one of the pretty 'white villages' of Andalucia. The ruins of the Castle of Zuheros are in the village.\", '...or see all our recommended places to visit in Andalucia', 'Spain This Way - copyright 2009 - 2022']}\n",
            "{'Name': 'Almeria', 'discription': ['Almeria is in the Andalucia region of Southern Spain in the province of Almeria.', 'Almeria city is the capital of this province and lies on the coast. It is famous for the massive Alcazaba which sits up above the city itself.', 'The city of Almeria sits on the coast at the foot of a mountain. At the summit of the mountain is the impressive Alcazaba which dominates views of the city.', 'The Alcazaba was built in 955 and is the largest of the fortresses built by the Moors in Spain. Almeria at the time was the wealthiest city in Spain and an important trading port for the Moors.', '', 'It was home to many beautiful palaces and gardens and home to 20,000 people. Sadly not much of this remains.', 'The citadel was split into three different areas, the first - the living quarters and baths is now largely given over to a pleasant formal garden. The second part was the palace buildings. Here you can see aljibes (water storage units) and a Mudejar shrine and a reconstruction of a typical Moorish home .', 'The third and most westerly part was the defensive part built in the 15th century by Ferdinand and Isabella. The defensive towers are give excellent views over the city and harbour below.', 'Entrance to the Alcazaba is free upon production of an EU passport.', \"Close to the Alcazaba is the cave quarter called the la Chanca quarter. This was a fisherman's and gipsies quarter and families still live in the caves which often have brightly coloured entrances. Try and visit on a Monday when there is an open air market in the la Chanca quarter.\", 'The old quarter of Almeria is centered around the attractive 17th century Plaza Vieja and is a good place to head to for tapas bars and cafés.', 'The cathedral of Almeria is heavily fortified as it was under regular attack by Turkish and North African pirates. It once had a canon in each of corners. The Almeria cathedral was the last gothic church to be built in Spain but its interior is now quite a mixture of styles including baroque and renaissance.', '', \"Almeria's summer starts before Easter and it can still be hot in November. This makes Almeria's beaches an excellent choice for out of season beach holidays. In mid-summer it can be too hot unless you are a dedicated sun-worshiper.\", \"Almeria's city beach is not very attractive but if you head east the beaches are fairly undiscovered and unspoilt. The resort of San Jose is small and unspoilt and further along the coast is the Moorish town of Mojacar which is now home to a lively beach resort.\", 'Heading west from Almeria there are the beach resorts of Aguadulce and the charming Roquetas de Mar.', \"The Almeria province contains Europe's only desert. This desert has been widely used in film such as 'A Fistful of Dollars'. The nearby town of Tabernas is the place to head for if you are a Spaghetti Western buff and want to visit one ot the film sets here. There is Mini-Hollywood and Texas-Hollywood.\", 'There is an important Copper Age settlement at Los Millares to the north of Almeria.', 'If the La Chanca quarter has wet your appetite for cave settlements you will want to visit the fascinating troglodyte area of nearby Guadix.', 'You can find more local travel ideas in the Andalucia guide.', 'Click any picture to start the gallery', 'Guadix', 'Guadix is a city with a troglodyte area near to Granada. It is fascinating to visit and many are still lived in.', '...or see all our recommended places to visit in Andalucia', 'Spain This Way - copyright 2009 - 2022']}\n",
            "{'Name': 'Almodovar del Rio (Cordoba Province)', 'discription': ['Almodovar del Rio is a small town set on the edge of the Parque Natural Hornachuelos. It is 24 kilometers from the town of Cordoba. The town is dominated by the Castillo de Almodovar that sits on top of a hill above the town.', 'Spain This Way comment: The castle is one of the best preserved in Spain and also featured in Game of Thrones.', 'Most people come for the castle but Almodovar del Rio itself is a pretty town with the gleaming white buildings with bright colours painted around windows and doors and in the flowers decorating balconies throughout the town.', 'There are various monuments to look out for including the 17th century Inmaculada Concepcion church in Baroque style and the Chapel of\\xa0 Nuestra Senora del Rosario y San Sebastian which is built in Andalucian Baroque style from the 18th century.', '', 'The chapel and convent of Nuestra Senora de Gracia dates back to the 17th century and its entrance is one of the oldest in town.', 'Ceramics, Mosaics and leatherworks are important crafts in Almodovar del Rio and there are various workshops that you can visit in the town to admire the artworks.', 'However the main attraction is the Castle of Almodovar which was built in 740 by the Moors on the site of a previous Roman fortress. During the Middle Ages the castle was altered and renovated on various occasions and eventually fell into disrepair.', 'In the early 20th century Count Torravala, with the help of the architect Adolfo Fernandez Casanova, restored the castle to its current glory.\\xa0 This restoration involved eight hundred workers and took thirty-six years! The castle is now one of the best preserved in Andalucia.\\xa0', \"The Castillo de Almodovar recently achieved fame and recognition throughout the world as it featured in the 7th series of the Game of Thrones as House Tyrell's home 'Highgarden' and also as parts of the House of Lannister's 'Casterly Rock'.\", 'Inside the castle you can see displays of armour and weapons as well as a torture chamber. You can also eat in the castles own taberna which has a terrace with views.', 'From the castle you get excellent views over the plains to the south and over the Parque Natural de Hornachuelos and the Sierra Morena to the north.', '', 'Near to the town there is the La Brena reservoir which is very popular for its beach and its water sports and also has walking and cycling trails. There is also a restaurant and a campsite.', 'Portus Romano on the right bank of the River Guadalquivir has important Roman remains.', 'The Natural Park of Hornachuelos has some excellent walking trails through the Andalucian mountain scenery.', 'Cordoba is a beautiful town and the stunning Mezquita should definitely not be missed when you are in the area.\\xa0', 'Osuna is a town with lots of beautiful Baroque buildings and featured in the fifth series of Game of Thrones and lots of the locals were involved in the fight scenes.', 'You can find more local travel ideas in the Cordoba guide and the Andalucia guide.', 'Click any picture to start the gallery', 'Mezquita of Cordoba', 'The Mezquita of Cordoba is one of the most beautiful mosques in the world and is considered one of the top treasures of Spain.', 'Cordoba', 'Cordoba is home to the Mezquita, the most beautiful of all the Mosques constructed by the Moors in Spain', 'Osuna', 'Osuna has lots of Baroque houses and a bullring made famous by Game of Thrones.', 'Carmona', 'Carmona is a pretty town with an Alcazar and a Dominican monestry that is now a market place.', 'Zuheros', \"Zuheros is one of the pretty 'white villages' of Andalucia. The ruins of the Castle of Zuheros are in the village.\", '...or see all our recommended places to visit in Andalucia', 'Spain This Way - copyright 2009 - 2022']}\n",
            "{'Name': 'Arcos de la Frontera (Cadiz Province)', 'discription': ['Arcos de la Frontera is in the province of Cadiz in the Andalucia region of Spain. Arcos de la Frontera is considered to be one of the most beautiful villages in Spain. It is just 29 km from Jerez de la Frontera.', \"Arcos de la Frontera is one of Spain's famous white villages (pueblos blancos). It sits dramatically on top of a cliff above the river Guadalete. According to legend Arcos was founded by Noah. It became a Moorish stronghold until 1264. Today it is a beautiful village full of whitewashed houses, sandstone churches a ruined castle and a parador. Plus, all around are fabulous views of the valley below.\", \"At the heart of the old town is the cobbled Plaza del Cabildo at the top of the village. On one side of the square is the Parador de Arcos de la Frontera which sits on the edge of the cliff. Its terrace is one of the best places in Arcos to sit and have a drink and enjoy the view. On the other sides are the walls of Arcos' castle and the Gothic Mudejar church - the Santa Maria de la Asuncion, and an open side looking over the views. The tourist office is also on the Plaza del Cabildo.\", '', \"The Castillo de los Arcos, Arcos' castle, started life as a Moorish castle in the 11th century and was then captured by the Christians in the 13th century when much of the castle was rebuilt. It became an important stronghold on the border between the Muslim and Christian territories. The castle is now privately owned by the Duke of Arcos and cannot be visited.\", 'The Santa Maria church has an impressive 18th century belfry and an ornate Plateresque doorway. Nearby, overlooking the steep drop, is the 16th century church of San Pedro with a fine, gilded altarpiece.', 'Wander along the Calle Cuna and the Calle Maldonaldo both of which have a number of 18th century palaces.The Palacio del Mayorazgo on Calle Maldonaldo has a lovely ornate Renaissance facade and can be visited on week days.', 'Another fine palace is the Palacio del Conde de Aguila which has a mixed mudejar/gothic style of architecture.', 'Arcos has two convents. One is the 16th century Convento de la Encarnación with a fine Plateresque doorway and the Convento de la Caridad dates back to the 18th century and boasts a rich interior.', 'Also take a look at the Mudejar ceiling in the town hall on the Plaza del Cabildo.', 'Be sure to visit the sherry town of Jerez de la Frontera as well as some of the other charming white villages such as Algodonales and Algar.', \"Nearby Seville is one of our favourite cities in Spain and we visit as often as we can. It is particularly great as a winter citybreak as the weather is often sunny and warm even in winter. Ronda is another of the lovely 'white villages'. If you can stay in the lovely parador which is located right on the edge of the deep gorge that divides the village.\", 'You can find more local travel ideas in the Cadiz guide and the Andalucia guide.', 'Jerez de la Frontera', 'Jerez is the capital of sherry production and home to the Real Escuela Andaluza de Arte Ecuestre or the Royal Andalucian School of Equestrian Art.', 'Cadiz', \"Cadiz is Europe's oldest city. It has a lovely sea front, old town and gardens and a splendid cathedral.\", 'Ronda', 'Ronda and the \"White Towns\". Ronda is a spectacular town which sits on top of a rocky outcrop and straddles a huge gorge.', 'Casares', 'Casares, in the Malaga province, is one of the most beautiful villages of Spain.', 'Seville - Plaza de Espana', 'Built for the 1928 World Fair this fabulous building is a favourite with locals and tourists alike.', 'Seville', \"Seville is one of Spain's most beautiful and vibrant cities and birthplace of the Flamenco.\", '...or see all our recommended places to visit in Andalucia', 'Spain This Way - copyright 2009 - 2022']}\n",
            "{'Name': 'Baeza (Jaen Province)', 'discription': ['Baeza is in the province of Jaen in the region of Andalucia. Famous for its Renaissance architecture Baeza is a UNESCO World Heritage Site. Baeza is just 11km from Ubeda, another fabulous Renaissance town.', 'Baeza is a beautiful historic town full of Renaissance architecture and surrounded by groves of olive trees. It is situated on the edge of the National Park of Cazorla which is one of the most spectacular National Parks in Spain.', 'Baeza was once a Moorish town and was the first in Andalucia to be reconquered in 1226. A period of great wealth followed and a beautiful medieval town was constructed.', \"The Plaza Mayor at the heart of Baeza is two plazas together - the Plaza de la Contitucion with a garden at one end and the Plaza de Espana at the other. Around the squae are lots of fine buildings including 'La Alhondiga', the old corn exchange with its triple tier arches.\", '', \"Next to the Plaza Mayou is the Plaza del Populo where the tourist office is sited in a Plateresque palace called the Casa del Populo. Pick up a map in the tourist office to make sure you dont miss any of Baeza's sights.\", 'At the Plaza del Populo is also the Puerta de Jaen y Arco de Villalar. This is a stone gateway into the city.', \"The Cathedral, on the Plaza Santa Maria, was built in the 16th century and has an attractive cloister where part of the mosque, which originally stood here, can be seen. In the cathedral is a 'rejas' (choir screen) by Bartolme, one of the masters of this style.\", 'There are many Renaissance mansions in Baeza and one of the best is the Palacio de Jabalquinto. It has a Renaissance courtyard and Baroque staircase. Its courtyard is open to visitors most days. It is very pretty as it is surrounded by two storeys of arched walkways around the edge of the courtyard. As it is part of the University of Andalucia you can just walk in and have a look.', \"One of the dominant buildings in Baeza is the Antigua Universidad which was one of Spain's main universities from 1542 to 1825. It has fine Renaissance and Baroque styles. It is used still as the summer school for Granada university.\", 'The town hall (Ayuntmiento) is a Plateresque style and is two buildings joined together by an arch. This is near the Plaza de Espana. The cathedral and the heart of the old town are slightly to the south around the Plaza de Santa Maria.', 'From the city walls you get some nice views over the surrounding countryside.', 'As well as the equally stunning Renaissance town of Ubeda, Baeza sits on the edge of a beautiful National Park, the Parque Natural de Cazorla. This park has stunning mountainous scenery and lovely wooded river valleys.', 'You can find more local travel ideas in the Andalucia guide.', 'Ubeda', 'Ubeda has a fabulous Renaissance square and lots of Renaissance buildings. It is a UNESCO World Heritage Site.', '...or see all our recommended places to visit in Andalucia', 'Spain This Way - copyright 2009 - 2022']}\n"
          ]
        },
        {
          "output_type": "error",
          "ename": "KeyboardInterrupt",
          "evalue": "ignored",
          "traceback": [
            "\u001b[0;31m---------------------------------------------------------------------------\u001b[0m",
            "\u001b[0;31mTypeError\u001b[0m                                 Traceback (most recent call last)",
            "\u001b[0;32m/usr/local/lib/python3.8/dist-packages/urllib3/connectionpool.py\u001b[0m in \u001b[0;36m_make_request\u001b[0;34m(self, conn, method, url, timeout, chunked, **httplib_request_kw)\u001b[0m\n\u001b[1;32m    376\u001b[0m             \u001b[0;32mtry\u001b[0m\u001b[0;34m:\u001b[0m  \u001b[0;31m# Python 2.7, use buffering of HTTP responses\u001b[0m\u001b[0;34m\u001b[0m\u001b[0;34m\u001b[0m\u001b[0m\n\u001b[0;32m--> 377\u001b[0;31m                 \u001b[0mhttplib_response\u001b[0m \u001b[0;34m=\u001b[0m \u001b[0mconn\u001b[0m\u001b[0;34m.\u001b[0m\u001b[0mgetresponse\u001b[0m\u001b[0;34m(\u001b[0m\u001b[0mbuffering\u001b[0m\u001b[0;34m=\u001b[0m\u001b[0;32mTrue\u001b[0m\u001b[0;34m)\u001b[0m\u001b[0;34m\u001b[0m\u001b[0;34m\u001b[0m\u001b[0m\n\u001b[0m\u001b[1;32m    378\u001b[0m             \u001b[0;32mexcept\u001b[0m \u001b[0mTypeError\u001b[0m\u001b[0;34m:\u001b[0m  \u001b[0;31m# Python 3\u001b[0m\u001b[0;34m\u001b[0m\u001b[0;34m\u001b[0m\u001b[0m\n",
            "\u001b[0;31mTypeError\u001b[0m: getresponse() got an unexpected keyword argument 'buffering'",
            "\nDuring handling of the above exception, another exception occurred:\n",
            "\u001b[0;31mKeyboardInterrupt\u001b[0m                         Traceback (most recent call last)",
            "\u001b[0;32m<ipython-input-19-653c3bb38c1b>\u001b[0m in \u001b[0;36m<module>\u001b[0;34m\u001b[0m\n\u001b[1;32m      8\u001b[0m   \u001b[0murls\u001b[0m\u001b[0;34m=\u001b[0m\u001b[0mrow\u001b[0m\u001b[0;34m[\u001b[0m\u001b[0;34m'url'\u001b[0m\u001b[0;34m]\u001b[0m\u001b[0;34m\u001b[0m\u001b[0;34m\u001b[0m\u001b[0m\n\u001b[1;32m      9\u001b[0m   \u001b[0mheaders\u001b[0m\u001b[0;34m=\u001b[0m\u001b[0;34m{\u001b[0m\u001b[0;34m'user-agent'\u001b[0m\u001b[0;34m:\u001b[0m\u001b[0;34m'Mozilla/5.0 (Windows NT 10.0; Win64; x64) AppleWebKit/537.36 (KHTML, like Gecko) Chrome/105.0.0.0 Safari/537.36'\u001b[0m\u001b[0;34m}\u001b[0m\u001b[0;34m\u001b[0m\u001b[0;34m\u001b[0m\u001b[0m\n\u001b[0;32m---> 10\u001b[0;31m   \u001b[0mresponse\u001b[0m\u001b[0;34m=\u001b[0m\u001b[0mrequests\u001b[0m\u001b[0;34m.\u001b[0m\u001b[0mget\u001b[0m\u001b[0;34m(\u001b[0m\u001b[0murls\u001b[0m\u001b[0;34m,\u001b[0m\u001b[0mheaders\u001b[0m\u001b[0;34m=\u001b[0m\u001b[0mheaders\u001b[0m\u001b[0;34m)\u001b[0m\u001b[0;34m\u001b[0m\u001b[0;34m\u001b[0m\u001b[0m\n\u001b[0m\u001b[1;32m     11\u001b[0m   \u001b[0mhtml\u001b[0m\u001b[0;34m=\u001b[0m\u001b[0mresponse\u001b[0m\u001b[0;34m.\u001b[0m\u001b[0mcontent\u001b[0m\u001b[0;34m\u001b[0m\u001b[0;34m\u001b[0m\u001b[0m\n\u001b[1;32m     12\u001b[0m   \u001b[0msoup\u001b[0m\u001b[0;34m=\u001b[0m\u001b[0mbs\u001b[0m\u001b[0;34m(\u001b[0m\u001b[0mhtml\u001b[0m\u001b[0;34m,\u001b[0m\u001b[0;34m'lxml'\u001b[0m\u001b[0;34m)\u001b[0m\u001b[0;34m\u001b[0m\u001b[0;34m\u001b[0m\u001b[0m\n",
            "\u001b[0;32m/usr/local/lib/python3.8/dist-packages/requests/api.py\u001b[0m in \u001b[0;36mget\u001b[0;34m(url, params, **kwargs)\u001b[0m\n\u001b[1;32m     74\u001b[0m \u001b[0;34m\u001b[0m\u001b[0m\n\u001b[1;32m     75\u001b[0m     \u001b[0mkwargs\u001b[0m\u001b[0;34m.\u001b[0m\u001b[0msetdefault\u001b[0m\u001b[0;34m(\u001b[0m\u001b[0;34m'allow_redirects'\u001b[0m\u001b[0;34m,\u001b[0m \u001b[0;32mTrue\u001b[0m\u001b[0;34m)\u001b[0m\u001b[0;34m\u001b[0m\u001b[0;34m\u001b[0m\u001b[0m\n\u001b[0;32m---> 76\u001b[0;31m     \u001b[0;32mreturn\u001b[0m \u001b[0mrequest\u001b[0m\u001b[0;34m(\u001b[0m\u001b[0;34m'get'\u001b[0m\u001b[0;34m,\u001b[0m \u001b[0murl\u001b[0m\u001b[0;34m,\u001b[0m \u001b[0mparams\u001b[0m\u001b[0;34m=\u001b[0m\u001b[0mparams\u001b[0m\u001b[0;34m,\u001b[0m \u001b[0;34m**\u001b[0m\u001b[0mkwargs\u001b[0m\u001b[0;34m)\u001b[0m\u001b[0;34m\u001b[0m\u001b[0;34m\u001b[0m\u001b[0m\n\u001b[0m\u001b[1;32m     77\u001b[0m \u001b[0;34m\u001b[0m\u001b[0m\n\u001b[1;32m     78\u001b[0m \u001b[0;34m\u001b[0m\u001b[0m\n",
            "\u001b[0;32m/usr/local/lib/python3.8/dist-packages/requests/api.py\u001b[0m in \u001b[0;36mrequest\u001b[0;34m(method, url, **kwargs)\u001b[0m\n\u001b[1;32m     59\u001b[0m     \u001b[0;31m# cases, and look like a memory leak in others.\u001b[0m\u001b[0;34m\u001b[0m\u001b[0;34m\u001b[0m\u001b[0;34m\u001b[0m\u001b[0m\n\u001b[1;32m     60\u001b[0m     \u001b[0;32mwith\u001b[0m \u001b[0msessions\u001b[0m\u001b[0;34m.\u001b[0m\u001b[0mSession\u001b[0m\u001b[0;34m(\u001b[0m\u001b[0;34m)\u001b[0m \u001b[0;32mas\u001b[0m \u001b[0msession\u001b[0m\u001b[0;34m:\u001b[0m\u001b[0;34m\u001b[0m\u001b[0;34m\u001b[0m\u001b[0m\n\u001b[0;32m---> 61\u001b[0;31m         \u001b[0;32mreturn\u001b[0m \u001b[0msession\u001b[0m\u001b[0;34m.\u001b[0m\u001b[0mrequest\u001b[0m\u001b[0;34m(\u001b[0m\u001b[0mmethod\u001b[0m\u001b[0;34m=\u001b[0m\u001b[0mmethod\u001b[0m\u001b[0;34m,\u001b[0m \u001b[0murl\u001b[0m\u001b[0;34m=\u001b[0m\u001b[0murl\u001b[0m\u001b[0;34m,\u001b[0m \u001b[0;34m**\u001b[0m\u001b[0mkwargs\u001b[0m\u001b[0;34m)\u001b[0m\u001b[0;34m\u001b[0m\u001b[0;34m\u001b[0m\u001b[0m\n\u001b[0m\u001b[1;32m     62\u001b[0m \u001b[0;34m\u001b[0m\u001b[0m\n\u001b[1;32m     63\u001b[0m \u001b[0;34m\u001b[0m\u001b[0m\n",
            "\u001b[0;32m/usr/local/lib/python3.8/dist-packages/requests/sessions.py\u001b[0m in \u001b[0;36mrequest\u001b[0;34m(self, method, url, params, data, headers, cookies, files, auth, timeout, allow_redirects, proxies, hooks, stream, verify, cert, json)\u001b[0m\n\u001b[1;32m    528\u001b[0m         }\n\u001b[1;32m    529\u001b[0m         \u001b[0msend_kwargs\u001b[0m\u001b[0;34m.\u001b[0m\u001b[0mupdate\u001b[0m\u001b[0;34m(\u001b[0m\u001b[0msettings\u001b[0m\u001b[0;34m)\u001b[0m\u001b[0;34m\u001b[0m\u001b[0;34m\u001b[0m\u001b[0m\n\u001b[0;32m--> 530\u001b[0;31m         \u001b[0mresp\u001b[0m \u001b[0;34m=\u001b[0m \u001b[0mself\u001b[0m\u001b[0;34m.\u001b[0m\u001b[0msend\u001b[0m\u001b[0;34m(\u001b[0m\u001b[0mprep\u001b[0m\u001b[0;34m,\u001b[0m \u001b[0;34m**\u001b[0m\u001b[0msend_kwargs\u001b[0m\u001b[0;34m)\u001b[0m\u001b[0;34m\u001b[0m\u001b[0;34m\u001b[0m\u001b[0m\n\u001b[0m\u001b[1;32m    531\u001b[0m \u001b[0;34m\u001b[0m\u001b[0m\n\u001b[1;32m    532\u001b[0m         \u001b[0;32mreturn\u001b[0m \u001b[0mresp\u001b[0m\u001b[0;34m\u001b[0m\u001b[0;34m\u001b[0m\u001b[0m\n",
            "\u001b[0;32m/usr/local/lib/python3.8/dist-packages/requests/sessions.py\u001b[0m in \u001b[0;36msend\u001b[0;34m(self, request, **kwargs)\u001b[0m\n\u001b[1;32m    641\u001b[0m \u001b[0;34m\u001b[0m\u001b[0m\n\u001b[1;32m    642\u001b[0m         \u001b[0;31m# Send the request\u001b[0m\u001b[0;34m\u001b[0m\u001b[0;34m\u001b[0m\u001b[0;34m\u001b[0m\u001b[0m\n\u001b[0;32m--> 643\u001b[0;31m         \u001b[0mr\u001b[0m \u001b[0;34m=\u001b[0m \u001b[0madapter\u001b[0m\u001b[0;34m.\u001b[0m\u001b[0msend\u001b[0m\u001b[0;34m(\u001b[0m\u001b[0mrequest\u001b[0m\u001b[0;34m,\u001b[0m \u001b[0;34m**\u001b[0m\u001b[0mkwargs\u001b[0m\u001b[0;34m)\u001b[0m\u001b[0;34m\u001b[0m\u001b[0;34m\u001b[0m\u001b[0m\n\u001b[0m\u001b[1;32m    644\u001b[0m \u001b[0;34m\u001b[0m\u001b[0m\n\u001b[1;32m    645\u001b[0m         \u001b[0;31m# Total elapsed time of the request (approximately)\u001b[0m\u001b[0;34m\u001b[0m\u001b[0;34m\u001b[0m\u001b[0;34m\u001b[0m\u001b[0m\n",
            "\u001b[0;32m/usr/local/lib/python3.8/dist-packages/requests/adapters.py\u001b[0m in \u001b[0;36msend\u001b[0;34m(self, request, stream, timeout, verify, cert, proxies)\u001b[0m\n\u001b[1;32m    437\u001b[0m         \u001b[0;32mtry\u001b[0m\u001b[0;34m:\u001b[0m\u001b[0;34m\u001b[0m\u001b[0;34m\u001b[0m\u001b[0m\n\u001b[1;32m    438\u001b[0m             \u001b[0;32mif\u001b[0m \u001b[0;32mnot\u001b[0m \u001b[0mchunked\u001b[0m\u001b[0;34m:\u001b[0m\u001b[0;34m\u001b[0m\u001b[0;34m\u001b[0m\u001b[0m\n\u001b[0;32m--> 439\u001b[0;31m                 resp = conn.urlopen(\n\u001b[0m\u001b[1;32m    440\u001b[0m                     \u001b[0mmethod\u001b[0m\u001b[0;34m=\u001b[0m\u001b[0mrequest\u001b[0m\u001b[0;34m.\u001b[0m\u001b[0mmethod\u001b[0m\u001b[0;34m,\u001b[0m\u001b[0;34m\u001b[0m\u001b[0;34m\u001b[0m\u001b[0m\n\u001b[1;32m    441\u001b[0m                     \u001b[0murl\u001b[0m\u001b[0;34m=\u001b[0m\u001b[0murl\u001b[0m\u001b[0;34m,\u001b[0m\u001b[0;34m\u001b[0m\u001b[0;34m\u001b[0m\u001b[0m\n",
            "\u001b[0;32m/usr/local/lib/python3.8/dist-packages/urllib3/connectionpool.py\u001b[0m in \u001b[0;36murlopen\u001b[0;34m(self, method, url, body, headers, retries, redirect, assert_same_host, timeout, pool_timeout, release_conn, chunked, body_pos, **response_kw)\u001b[0m\n\u001b[1;32m    595\u001b[0m \u001b[0;34m\u001b[0m\u001b[0m\n\u001b[1;32m    596\u001b[0m             \u001b[0;31m# Make the request on the httplib connection object.\u001b[0m\u001b[0;34m\u001b[0m\u001b[0;34m\u001b[0m\u001b[0;34m\u001b[0m\u001b[0m\n\u001b[0;32m--> 597\u001b[0;31m             httplib_response = self._make_request(conn, method, url,\n\u001b[0m\u001b[1;32m    598\u001b[0m                                                   \u001b[0mtimeout\u001b[0m\u001b[0;34m=\u001b[0m\u001b[0mtimeout_obj\u001b[0m\u001b[0;34m,\u001b[0m\u001b[0;34m\u001b[0m\u001b[0;34m\u001b[0m\u001b[0m\n\u001b[1;32m    599\u001b[0m                                                   \u001b[0mbody\u001b[0m\u001b[0;34m=\u001b[0m\u001b[0mbody\u001b[0m\u001b[0;34m,\u001b[0m \u001b[0mheaders\u001b[0m\u001b[0;34m=\u001b[0m\u001b[0mheaders\u001b[0m\u001b[0;34m,\u001b[0m\u001b[0;34m\u001b[0m\u001b[0;34m\u001b[0m\u001b[0m\n",
            "\u001b[0;32m/usr/local/lib/python3.8/dist-packages/urllib3/connectionpool.py\u001b[0m in \u001b[0;36m_make_request\u001b[0;34m(self, conn, method, url, timeout, chunked, **httplib_request_kw)\u001b[0m\n\u001b[1;32m    378\u001b[0m             \u001b[0;32mexcept\u001b[0m \u001b[0mTypeError\u001b[0m\u001b[0;34m:\u001b[0m  \u001b[0;31m# Python 3\u001b[0m\u001b[0;34m\u001b[0m\u001b[0;34m\u001b[0m\u001b[0m\n\u001b[1;32m    379\u001b[0m                 \u001b[0;32mtry\u001b[0m\u001b[0;34m:\u001b[0m\u001b[0;34m\u001b[0m\u001b[0;34m\u001b[0m\u001b[0m\n\u001b[0;32m--> 380\u001b[0;31m                     \u001b[0mhttplib_response\u001b[0m \u001b[0;34m=\u001b[0m \u001b[0mconn\u001b[0m\u001b[0;34m.\u001b[0m\u001b[0mgetresponse\u001b[0m\u001b[0;34m(\u001b[0m\u001b[0;34m)\u001b[0m\u001b[0;34m\u001b[0m\u001b[0;34m\u001b[0m\u001b[0m\n\u001b[0m\u001b[1;32m    381\u001b[0m                 \u001b[0;32mexcept\u001b[0m \u001b[0mException\u001b[0m \u001b[0;32mas\u001b[0m \u001b[0me\u001b[0m\u001b[0;34m:\u001b[0m\u001b[0;34m\u001b[0m\u001b[0;34m\u001b[0m\u001b[0m\n\u001b[1;32m    382\u001b[0m                     \u001b[0;31m# Remove the TypeError from the exception chain in Python 3;\u001b[0m\u001b[0;34m\u001b[0m\u001b[0;34m\u001b[0m\u001b[0;34m\u001b[0m\u001b[0m\n",
            "\u001b[0;32m/usr/lib/python3.8/http/client.py\u001b[0m in \u001b[0;36mgetresponse\u001b[0;34m(self)\u001b[0m\n\u001b[1;32m   1346\u001b[0m         \u001b[0;32mtry\u001b[0m\u001b[0;34m:\u001b[0m\u001b[0;34m\u001b[0m\u001b[0;34m\u001b[0m\u001b[0m\n\u001b[1;32m   1347\u001b[0m             \u001b[0;32mtry\u001b[0m\u001b[0;34m:\u001b[0m\u001b[0;34m\u001b[0m\u001b[0;34m\u001b[0m\u001b[0m\n\u001b[0;32m-> 1348\u001b[0;31m                 \u001b[0mresponse\u001b[0m\u001b[0;34m.\u001b[0m\u001b[0mbegin\u001b[0m\u001b[0;34m(\u001b[0m\u001b[0;34m)\u001b[0m\u001b[0;34m\u001b[0m\u001b[0;34m\u001b[0m\u001b[0m\n\u001b[0m\u001b[1;32m   1349\u001b[0m             \u001b[0;32mexcept\u001b[0m \u001b[0mConnectionError\u001b[0m\u001b[0;34m:\u001b[0m\u001b[0;34m\u001b[0m\u001b[0;34m\u001b[0m\u001b[0m\n\u001b[1;32m   1350\u001b[0m                 \u001b[0mself\u001b[0m\u001b[0;34m.\u001b[0m\u001b[0mclose\u001b[0m\u001b[0;34m(\u001b[0m\u001b[0;34m)\u001b[0m\u001b[0;34m\u001b[0m\u001b[0;34m\u001b[0m\u001b[0m\n",
            "\u001b[0;32m/usr/lib/python3.8/http/client.py\u001b[0m in \u001b[0;36mbegin\u001b[0;34m(self)\u001b[0m\n\u001b[1;32m    314\u001b[0m         \u001b[0;31m# read until we get a non-100 response\u001b[0m\u001b[0;34m\u001b[0m\u001b[0;34m\u001b[0m\u001b[0;34m\u001b[0m\u001b[0m\n\u001b[1;32m    315\u001b[0m         \u001b[0;32mwhile\u001b[0m \u001b[0;32mTrue\u001b[0m\u001b[0;34m:\u001b[0m\u001b[0;34m\u001b[0m\u001b[0;34m\u001b[0m\u001b[0m\n\u001b[0;32m--> 316\u001b[0;31m             \u001b[0mversion\u001b[0m\u001b[0;34m,\u001b[0m \u001b[0mstatus\u001b[0m\u001b[0;34m,\u001b[0m \u001b[0mreason\u001b[0m \u001b[0;34m=\u001b[0m \u001b[0mself\u001b[0m\u001b[0;34m.\u001b[0m\u001b[0m_read_status\u001b[0m\u001b[0;34m(\u001b[0m\u001b[0;34m)\u001b[0m\u001b[0;34m\u001b[0m\u001b[0;34m\u001b[0m\u001b[0m\n\u001b[0m\u001b[1;32m    317\u001b[0m             \u001b[0;32mif\u001b[0m \u001b[0mstatus\u001b[0m \u001b[0;34m!=\u001b[0m \u001b[0mCONTINUE\u001b[0m\u001b[0;34m:\u001b[0m\u001b[0;34m\u001b[0m\u001b[0;34m\u001b[0m\u001b[0m\n\u001b[1;32m    318\u001b[0m                 \u001b[0;32mbreak\u001b[0m\u001b[0;34m\u001b[0m\u001b[0;34m\u001b[0m\u001b[0m\n",
            "\u001b[0;32m/usr/lib/python3.8/http/client.py\u001b[0m in \u001b[0;36m_read_status\u001b[0;34m(self)\u001b[0m\n\u001b[1;32m    275\u001b[0m \u001b[0;34m\u001b[0m\u001b[0m\n\u001b[1;32m    276\u001b[0m     \u001b[0;32mdef\u001b[0m \u001b[0m_read_status\u001b[0m\u001b[0;34m(\u001b[0m\u001b[0mself\u001b[0m\u001b[0;34m)\u001b[0m\u001b[0;34m:\u001b[0m\u001b[0;34m\u001b[0m\u001b[0;34m\u001b[0m\u001b[0m\n\u001b[0;32m--> 277\u001b[0;31m         \u001b[0mline\u001b[0m \u001b[0;34m=\u001b[0m \u001b[0mstr\u001b[0m\u001b[0;34m(\u001b[0m\u001b[0mself\u001b[0m\u001b[0;34m.\u001b[0m\u001b[0mfp\u001b[0m\u001b[0;34m.\u001b[0m\u001b[0mreadline\u001b[0m\u001b[0;34m(\u001b[0m\u001b[0m_MAXLINE\u001b[0m \u001b[0;34m+\u001b[0m \u001b[0;36m1\u001b[0m\u001b[0;34m)\u001b[0m\u001b[0;34m,\u001b[0m \u001b[0;34m\"iso-8859-1\"\u001b[0m\u001b[0;34m)\u001b[0m\u001b[0;34m\u001b[0m\u001b[0;34m\u001b[0m\u001b[0m\n\u001b[0m\u001b[1;32m    278\u001b[0m         \u001b[0;32mif\u001b[0m \u001b[0mlen\u001b[0m\u001b[0;34m(\u001b[0m\u001b[0mline\u001b[0m\u001b[0;34m)\u001b[0m \u001b[0;34m>\u001b[0m \u001b[0m_MAXLINE\u001b[0m\u001b[0;34m:\u001b[0m\u001b[0;34m\u001b[0m\u001b[0;34m\u001b[0m\u001b[0m\n\u001b[1;32m    279\u001b[0m             \u001b[0;32mraise\u001b[0m \u001b[0mLineTooLong\u001b[0m\u001b[0;34m(\u001b[0m\u001b[0;34m\"status line\"\u001b[0m\u001b[0;34m)\u001b[0m\u001b[0;34m\u001b[0m\u001b[0;34m\u001b[0m\u001b[0m\n",
            "\u001b[0;32m/usr/lib/python3.8/socket.py\u001b[0m in \u001b[0;36mreadinto\u001b[0;34m(self, b)\u001b[0m\n\u001b[1;32m    667\u001b[0m         \u001b[0;32mwhile\u001b[0m \u001b[0;32mTrue\u001b[0m\u001b[0;34m:\u001b[0m\u001b[0;34m\u001b[0m\u001b[0;34m\u001b[0m\u001b[0m\n\u001b[1;32m    668\u001b[0m             \u001b[0;32mtry\u001b[0m\u001b[0;34m:\u001b[0m\u001b[0;34m\u001b[0m\u001b[0;34m\u001b[0m\u001b[0m\n\u001b[0;32m--> 669\u001b[0;31m                 \u001b[0;32mreturn\u001b[0m \u001b[0mself\u001b[0m\u001b[0;34m.\u001b[0m\u001b[0m_sock\u001b[0m\u001b[0;34m.\u001b[0m\u001b[0mrecv_into\u001b[0m\u001b[0;34m(\u001b[0m\u001b[0mb\u001b[0m\u001b[0;34m)\u001b[0m\u001b[0;34m\u001b[0m\u001b[0;34m\u001b[0m\u001b[0m\n\u001b[0m\u001b[1;32m    670\u001b[0m             \u001b[0;32mexcept\u001b[0m \u001b[0mtimeout\u001b[0m\u001b[0;34m:\u001b[0m\u001b[0;34m\u001b[0m\u001b[0;34m\u001b[0m\u001b[0m\n\u001b[1;32m    671\u001b[0m                 \u001b[0mself\u001b[0m\u001b[0;34m.\u001b[0m\u001b[0m_timeout_occurred\u001b[0m \u001b[0;34m=\u001b[0m \u001b[0;32mTrue\u001b[0m\u001b[0;34m\u001b[0m\u001b[0;34m\u001b[0m\u001b[0m\n",
            "\u001b[0;32m/usr/lib/python3.8/ssl.py\u001b[0m in \u001b[0;36mrecv_into\u001b[0;34m(self, buffer, nbytes, flags)\u001b[0m\n\u001b[1;32m   1239\u001b[0m                   \u001b[0;34m\"non-zero flags not allowed in calls to recv_into() on %s\"\u001b[0m \u001b[0;34m%\u001b[0m\u001b[0;34m\u001b[0m\u001b[0;34m\u001b[0m\u001b[0m\n\u001b[1;32m   1240\u001b[0m                   self.__class__)\n\u001b[0;32m-> 1241\u001b[0;31m             \u001b[0;32mreturn\u001b[0m \u001b[0mself\u001b[0m\u001b[0;34m.\u001b[0m\u001b[0mread\u001b[0m\u001b[0;34m(\u001b[0m\u001b[0mnbytes\u001b[0m\u001b[0;34m,\u001b[0m \u001b[0mbuffer\u001b[0m\u001b[0;34m)\u001b[0m\u001b[0;34m\u001b[0m\u001b[0;34m\u001b[0m\u001b[0m\n\u001b[0m\u001b[1;32m   1242\u001b[0m         \u001b[0;32melse\u001b[0m\u001b[0;34m:\u001b[0m\u001b[0;34m\u001b[0m\u001b[0;34m\u001b[0m\u001b[0m\n\u001b[1;32m   1243\u001b[0m             \u001b[0;32mreturn\u001b[0m \u001b[0msuper\u001b[0m\u001b[0;34m(\u001b[0m\u001b[0;34m)\u001b[0m\u001b[0;34m.\u001b[0m\u001b[0mrecv_into\u001b[0m\u001b[0;34m(\u001b[0m\u001b[0mbuffer\u001b[0m\u001b[0;34m,\u001b[0m \u001b[0mnbytes\u001b[0m\u001b[0;34m,\u001b[0m \u001b[0mflags\u001b[0m\u001b[0;34m)\u001b[0m\u001b[0;34m\u001b[0m\u001b[0;34m\u001b[0m\u001b[0m\n",
            "\u001b[0;32m/usr/lib/python3.8/ssl.py\u001b[0m in \u001b[0;36mread\u001b[0;34m(self, len, buffer)\u001b[0m\n\u001b[1;32m   1097\u001b[0m         \u001b[0;32mtry\u001b[0m\u001b[0;34m:\u001b[0m\u001b[0;34m\u001b[0m\u001b[0;34m\u001b[0m\u001b[0m\n\u001b[1;32m   1098\u001b[0m             \u001b[0;32mif\u001b[0m \u001b[0mbuffer\u001b[0m \u001b[0;32mis\u001b[0m \u001b[0;32mnot\u001b[0m \u001b[0;32mNone\u001b[0m\u001b[0;34m:\u001b[0m\u001b[0;34m\u001b[0m\u001b[0;34m\u001b[0m\u001b[0m\n\u001b[0;32m-> 1099\u001b[0;31m                 \u001b[0;32mreturn\u001b[0m \u001b[0mself\u001b[0m\u001b[0;34m.\u001b[0m\u001b[0m_sslobj\u001b[0m\u001b[0;34m.\u001b[0m\u001b[0mread\u001b[0m\u001b[0;34m(\u001b[0m\u001b[0mlen\u001b[0m\u001b[0;34m,\u001b[0m \u001b[0mbuffer\u001b[0m\u001b[0;34m)\u001b[0m\u001b[0;34m\u001b[0m\u001b[0;34m\u001b[0m\u001b[0m\n\u001b[0m\u001b[1;32m   1100\u001b[0m             \u001b[0;32melse\u001b[0m\u001b[0;34m:\u001b[0m\u001b[0;34m\u001b[0m\u001b[0;34m\u001b[0m\u001b[0m\n\u001b[1;32m   1101\u001b[0m                 \u001b[0;32mreturn\u001b[0m \u001b[0mself\u001b[0m\u001b[0;34m.\u001b[0m\u001b[0m_sslobj\u001b[0m\u001b[0;34m.\u001b[0m\u001b[0mread\u001b[0m\u001b[0;34m(\u001b[0m\u001b[0mlen\u001b[0m\u001b[0;34m)\u001b[0m\u001b[0;34m\u001b[0m\u001b[0;34m\u001b[0m\u001b[0m\n",
            "\u001b[0;31mKeyboardInterrupt\u001b[0m: "
          ]
        }
      ]
    },
    {
      "cell_type": "code",
      "source": [
        "df= pd.read_csv('french_data.csv')"
      ],
      "metadata": {
        "id": "eroOVN8EcfvA"
      },
      "execution_count": null,
      "outputs": []
    },
    {
      "cell_type": "code",
      "source": [
        "df.head()"
      ],
      "metadata": {
        "colab": {
          "base_uri": "https://localhost:8080/",
          "height": 206
        },
        "id": "8Cn89lsZcf2O",
        "outputId": "109e5572-d479-4fd8-e3e0-8ad53dc253d4"
      },
      "execution_count": null,
      "outputs": [
        {
          "output_type": "execute_result",
          "data": {
            "text/plain": [
              "  Country       Name                                 Description(Intro)  \\\n",
              "0  France    Abbevie  Abbevie is an important town in the Somme regi...   \n",
              "1  France  Abondance  Abondance is an attractive apine viage best kn...   \n",
              "2  France       Agay  Agay is a viage and coasta resort on the Cote ...   \n",
              "3  France       Agde  Agde is a ivey town on the Heraut river a few ...   \n",
              "4  France       Agen  Agen is the most important (the prefecture) to...   \n",
              "\n",
              "     Latitude   Longtude  \n",
              "0     50.1058     1.8358  \n",
              "1   46.279722   6.722778  \n",
              "2  43.4313092  6.8558399  \n",
              "3     43.3108    3.47583  \n",
              "4     44.2049   0.621153  "
            ],
            "text/html": [
              "\n",
              "  <div id=\"df-e1f76b8a-3a25-4e05-89c2-7a0e869cd31b\">\n",
              "    <div class=\"colab-df-container\">\n",
              "      <div>\n",
              "<style scoped>\n",
              "    .dataframe tbody tr th:only-of-type {\n",
              "        vertical-align: middle;\n",
              "    }\n",
              "\n",
              "    .dataframe tbody tr th {\n",
              "        vertical-align: top;\n",
              "    }\n",
              "\n",
              "    .dataframe thead th {\n",
              "        text-align: right;\n",
              "    }\n",
              "</style>\n",
              "<table border=\"1\" class=\"dataframe\">\n",
              "  <thead>\n",
              "    <tr style=\"text-align: right;\">\n",
              "      <th></th>\n",
              "      <th>Country</th>\n",
              "      <th>Name</th>\n",
              "      <th>Description(Intro)</th>\n",
              "      <th>Latitude</th>\n",
              "      <th>Longtude</th>\n",
              "    </tr>\n",
              "  </thead>\n",
              "  <tbody>\n",
              "    <tr>\n",
              "      <th>0</th>\n",
              "      <td>France</td>\n",
              "      <td>Abbevie</td>\n",
              "      <td>Abbevie is an important town in the Somme regi...</td>\n",
              "      <td>50.1058</td>\n",
              "      <td>1.8358</td>\n",
              "    </tr>\n",
              "    <tr>\n",
              "      <th>1</th>\n",
              "      <td>France</td>\n",
              "      <td>Abondance</td>\n",
              "      <td>Abondance is an attractive apine viage best kn...</td>\n",
              "      <td>46.279722</td>\n",
              "      <td>6.722778</td>\n",
              "    </tr>\n",
              "    <tr>\n",
              "      <th>2</th>\n",
              "      <td>France</td>\n",
              "      <td>Agay</td>\n",
              "      <td>Agay is a viage and coasta resort on the Cote ...</td>\n",
              "      <td>43.4313092</td>\n",
              "      <td>6.8558399</td>\n",
              "    </tr>\n",
              "    <tr>\n",
              "      <th>3</th>\n",
              "      <td>France</td>\n",
              "      <td>Agde</td>\n",
              "      <td>Agde is a ivey town on the Heraut river a few ...</td>\n",
              "      <td>43.3108</td>\n",
              "      <td>3.47583</td>\n",
              "    </tr>\n",
              "    <tr>\n",
              "      <th>4</th>\n",
              "      <td>France</td>\n",
              "      <td>Agen</td>\n",
              "      <td>Agen is the most important (the prefecture) to...</td>\n",
              "      <td>44.2049</td>\n",
              "      <td>0.621153</td>\n",
              "    </tr>\n",
              "  </tbody>\n",
              "</table>\n",
              "</div>\n",
              "      <button class=\"colab-df-convert\" onclick=\"convertToInteractive('df-e1f76b8a-3a25-4e05-89c2-7a0e869cd31b')\"\n",
              "              title=\"Convert this dataframe to an interactive table.\"\n",
              "              style=\"display:none;\">\n",
              "        \n",
              "  <svg xmlns=\"http://www.w3.org/2000/svg\" height=\"24px\"viewBox=\"0 0 24 24\"\n",
              "       width=\"24px\">\n",
              "    <path d=\"M0 0h24v24H0V0z\" fill=\"none\"/>\n",
              "    <path d=\"M18.56 5.44l.94 2.06.94-2.06 2.06-.94-2.06-.94-.94-2.06-.94 2.06-2.06.94zm-11 1L8.5 8.5l.94-2.06 2.06-.94-2.06-.94L8.5 2.5l-.94 2.06-2.06.94zm10 10l.94 2.06.94-2.06 2.06-.94-2.06-.94-.94-2.06-.94 2.06-2.06.94z\"/><path d=\"M17.41 7.96l-1.37-1.37c-.4-.4-.92-.59-1.43-.59-.52 0-1.04.2-1.43.59L10.3 9.45l-7.72 7.72c-.78.78-.78 2.05 0 2.83L4 21.41c.39.39.9.59 1.41.59.51 0 1.02-.2 1.41-.59l7.78-7.78 2.81-2.81c.8-.78.8-2.07 0-2.86zM5.41 20L4 18.59l7.72-7.72 1.47 1.35L5.41 20z\"/>\n",
              "  </svg>\n",
              "      </button>\n",
              "      \n",
              "  <style>\n",
              "    .colab-df-container {\n",
              "      display:flex;\n",
              "      flex-wrap:wrap;\n",
              "      gap: 12px;\n",
              "    }\n",
              "\n",
              "    .colab-df-convert {\n",
              "      background-color: #E8F0FE;\n",
              "      border: none;\n",
              "      border-radius: 50%;\n",
              "      cursor: pointer;\n",
              "      display: none;\n",
              "      fill: #1967D2;\n",
              "      height: 32px;\n",
              "      padding: 0 0 0 0;\n",
              "      width: 32px;\n",
              "    }\n",
              "\n",
              "    .colab-df-convert:hover {\n",
              "      background-color: #E2EBFA;\n",
              "      box-shadow: 0px 1px 2px rgba(60, 64, 67, 0.3), 0px 1px 3px 1px rgba(60, 64, 67, 0.15);\n",
              "      fill: #174EA6;\n",
              "    }\n",
              "\n",
              "    [theme=dark] .colab-df-convert {\n",
              "      background-color: #3B4455;\n",
              "      fill: #D2E3FC;\n",
              "    }\n",
              "\n",
              "    [theme=dark] .colab-df-convert:hover {\n",
              "      background-color: #434B5C;\n",
              "      box-shadow: 0px 1px 3px 1px rgba(0, 0, 0, 0.15);\n",
              "      filter: drop-shadow(0px 1px 2px rgba(0, 0, 0, 0.3));\n",
              "      fill: #FFFFFF;\n",
              "    }\n",
              "  </style>\n",
              "\n",
              "      <script>\n",
              "        const buttonEl =\n",
              "          document.querySelector('#df-e1f76b8a-3a25-4e05-89c2-7a0e869cd31b button.colab-df-convert');\n",
              "        buttonEl.style.display =\n",
              "          google.colab.kernel.accessAllowed ? 'block' : 'none';\n",
              "\n",
              "        async function convertToInteractive(key) {\n",
              "          const element = document.querySelector('#df-e1f76b8a-3a25-4e05-89c2-7a0e869cd31b');\n",
              "          const dataTable =\n",
              "            await google.colab.kernel.invokeFunction('convertToInteractive',\n",
              "                                                     [key], {});\n",
              "          if (!dataTable) return;\n",
              "\n",
              "          const docLinkHtml = 'Like what you see? Visit the ' +\n",
              "            '<a target=\"_blank\" href=https://colab.research.google.com/notebooks/data_table.ipynb>data table notebook</a>'\n",
              "            + ' to learn more about interactive tables.';\n",
              "          element.innerHTML = '';\n",
              "          dataTable['output_type'] = 'display_data';\n",
              "          await google.colab.output.renderOutput(dataTable, element);\n",
              "          const docLink = document.createElement('div');\n",
              "          docLink.innerHTML = docLinkHtml;\n",
              "          element.appendChild(docLink);\n",
              "        }\n",
              "      </script>\n",
              "    </div>\n",
              "  </div>\n",
              "  "
            ]
          },
          "metadata": {},
          "execution_count": 36
        }
      ]
    },
    {
      "cell_type": "code",
      "source": [
        "df1 = df.copy()"
      ],
      "metadata": {
        "id": "JqTMtSKacf7E"
      },
      "execution_count": null,
      "outputs": []
    },
    {
      "cell_type": "code",
      "source": [
        "df1.head()"
      ],
      "metadata": {
        "colab": {
          "base_uri": "https://localhost:8080/",
          "height": 206
        },
        "id": "0BAuEGAbcf9q",
        "outputId": "6e4b0f2f-675b-45db-afc5-a644d054cbdc"
      },
      "execution_count": null,
      "outputs": [
        {
          "output_type": "execute_result",
          "data": {
            "text/plain": [
              "  Country       Name                                 Description(Intro)  \\\n",
              "0  France    Abbevie  Abbevie is an important town in the Somme regi...   \n",
              "1  France  Abondance  Abondance is an attractive apine viage best kn...   \n",
              "2  France       Agay  Agay is a viage and coasta resort on the Cote ...   \n",
              "3  France       Agde  Agde is a ivey town on the Heraut river a few ...   \n",
              "4  France       Agen  Agen is the most important (the prefecture) to...   \n",
              "\n",
              "     Latitude   Longtude  \n",
              "0     50.1058     1.8358  \n",
              "1   46.279722   6.722778  \n",
              "2  43.4313092  6.8558399  \n",
              "3     43.3108    3.47583  \n",
              "4     44.2049   0.621153  "
            ],
            "text/html": [
              "\n",
              "  <div id=\"df-db5d29ef-ffa6-4ca7-a582-c89f2031f20b\">\n",
              "    <div class=\"colab-df-container\">\n",
              "      <div>\n",
              "<style scoped>\n",
              "    .dataframe tbody tr th:only-of-type {\n",
              "        vertical-align: middle;\n",
              "    }\n",
              "\n",
              "    .dataframe tbody tr th {\n",
              "        vertical-align: top;\n",
              "    }\n",
              "\n",
              "    .dataframe thead th {\n",
              "        text-align: right;\n",
              "    }\n",
              "</style>\n",
              "<table border=\"1\" class=\"dataframe\">\n",
              "  <thead>\n",
              "    <tr style=\"text-align: right;\">\n",
              "      <th></th>\n",
              "      <th>Country</th>\n",
              "      <th>Name</th>\n",
              "      <th>Description(Intro)</th>\n",
              "      <th>Latitude</th>\n",
              "      <th>Longtude</th>\n",
              "    </tr>\n",
              "  </thead>\n",
              "  <tbody>\n",
              "    <tr>\n",
              "      <th>0</th>\n",
              "      <td>France</td>\n",
              "      <td>Abbevie</td>\n",
              "      <td>Abbevie is an important town in the Somme regi...</td>\n",
              "      <td>50.1058</td>\n",
              "      <td>1.8358</td>\n",
              "    </tr>\n",
              "    <tr>\n",
              "      <th>1</th>\n",
              "      <td>France</td>\n",
              "      <td>Abondance</td>\n",
              "      <td>Abondance is an attractive apine viage best kn...</td>\n",
              "      <td>46.279722</td>\n",
              "      <td>6.722778</td>\n",
              "    </tr>\n",
              "    <tr>\n",
              "      <th>2</th>\n",
              "      <td>France</td>\n",
              "      <td>Agay</td>\n",
              "      <td>Agay is a viage and coasta resort on the Cote ...</td>\n",
              "      <td>43.4313092</td>\n",
              "      <td>6.8558399</td>\n",
              "    </tr>\n",
              "    <tr>\n",
              "      <th>3</th>\n",
              "      <td>France</td>\n",
              "      <td>Agde</td>\n",
              "      <td>Agde is a ivey town on the Heraut river a few ...</td>\n",
              "      <td>43.3108</td>\n",
              "      <td>3.47583</td>\n",
              "    </tr>\n",
              "    <tr>\n",
              "      <th>4</th>\n",
              "      <td>France</td>\n",
              "      <td>Agen</td>\n",
              "      <td>Agen is the most important (the prefecture) to...</td>\n",
              "      <td>44.2049</td>\n",
              "      <td>0.621153</td>\n",
              "    </tr>\n",
              "  </tbody>\n",
              "</table>\n",
              "</div>\n",
              "      <button class=\"colab-df-convert\" onclick=\"convertToInteractive('df-db5d29ef-ffa6-4ca7-a582-c89f2031f20b')\"\n",
              "              title=\"Convert this dataframe to an interactive table.\"\n",
              "              style=\"display:none;\">\n",
              "        \n",
              "  <svg xmlns=\"http://www.w3.org/2000/svg\" height=\"24px\"viewBox=\"0 0 24 24\"\n",
              "       width=\"24px\">\n",
              "    <path d=\"M0 0h24v24H0V0z\" fill=\"none\"/>\n",
              "    <path d=\"M18.56 5.44l.94 2.06.94-2.06 2.06-.94-2.06-.94-.94-2.06-.94 2.06-2.06.94zm-11 1L8.5 8.5l.94-2.06 2.06-.94-2.06-.94L8.5 2.5l-.94 2.06-2.06.94zm10 10l.94 2.06.94-2.06 2.06-.94-2.06-.94-.94-2.06-.94 2.06-2.06.94z\"/><path d=\"M17.41 7.96l-1.37-1.37c-.4-.4-.92-.59-1.43-.59-.52 0-1.04.2-1.43.59L10.3 9.45l-7.72 7.72c-.78.78-.78 2.05 0 2.83L4 21.41c.39.39.9.59 1.41.59.51 0 1.02-.2 1.41-.59l7.78-7.78 2.81-2.81c.8-.78.8-2.07 0-2.86zM5.41 20L4 18.59l7.72-7.72 1.47 1.35L5.41 20z\"/>\n",
              "  </svg>\n",
              "      </button>\n",
              "      \n",
              "  <style>\n",
              "    .colab-df-container {\n",
              "      display:flex;\n",
              "      flex-wrap:wrap;\n",
              "      gap: 12px;\n",
              "    }\n",
              "\n",
              "    .colab-df-convert {\n",
              "      background-color: #E8F0FE;\n",
              "      border: none;\n",
              "      border-radius: 50%;\n",
              "      cursor: pointer;\n",
              "      display: none;\n",
              "      fill: #1967D2;\n",
              "      height: 32px;\n",
              "      padding: 0 0 0 0;\n",
              "      width: 32px;\n",
              "    }\n",
              "\n",
              "    .colab-df-convert:hover {\n",
              "      background-color: #E2EBFA;\n",
              "      box-shadow: 0px 1px 2px rgba(60, 64, 67, 0.3), 0px 1px 3px 1px rgba(60, 64, 67, 0.15);\n",
              "      fill: #174EA6;\n",
              "    }\n",
              "\n",
              "    [theme=dark] .colab-df-convert {\n",
              "      background-color: #3B4455;\n",
              "      fill: #D2E3FC;\n",
              "    }\n",
              "\n",
              "    [theme=dark] .colab-df-convert:hover {\n",
              "      background-color: #434B5C;\n",
              "      box-shadow: 0px 1px 3px 1px rgba(0, 0, 0, 0.15);\n",
              "      filter: drop-shadow(0px 1px 2px rgba(0, 0, 0, 0.3));\n",
              "      fill: #FFFFFF;\n",
              "    }\n",
              "  </style>\n",
              "\n",
              "      <script>\n",
              "        const buttonEl =\n",
              "          document.querySelector('#df-db5d29ef-ffa6-4ca7-a582-c89f2031f20b button.colab-df-convert');\n",
              "        buttonEl.style.display =\n",
              "          google.colab.kernel.accessAllowed ? 'block' : 'none';\n",
              "\n",
              "        async function convertToInteractive(key) {\n",
              "          const element = document.querySelector('#df-db5d29ef-ffa6-4ca7-a582-c89f2031f20b');\n",
              "          const dataTable =\n",
              "            await google.colab.kernel.invokeFunction('convertToInteractive',\n",
              "                                                     [key], {});\n",
              "          if (!dataTable) return;\n",
              "\n",
              "          const docLinkHtml = 'Like what you see? Visit the ' +\n",
              "            '<a target=\"_blank\" href=https://colab.research.google.com/notebooks/data_table.ipynb>data table notebook</a>'\n",
              "            + ' to learn more about interactive tables.';\n",
              "          element.innerHTML = '';\n",
              "          dataTable['output_type'] = 'display_data';\n",
              "          await google.colab.output.renderOutput(dataTable, element);\n",
              "          const docLink = document.createElement('div');\n",
              "          docLink.innerHTML = docLinkHtml;\n",
              "          element.appendChild(docLink);\n",
              "        }\n",
              "      </script>\n",
              "    </div>\n",
              "  </div>\n",
              "  "
            ]
          },
          "metadata": {},
          "execution_count": 38
        }
      ]
    },
    {
      "cell_type": "code",
      "source": [
        "df1.rename(columns = {'Description(Intro)':'Description'}, inplace = True)"
      ],
      "metadata": {
        "id": "Ca2PdW5Oeo-k"
      },
      "execution_count": null,
      "outputs": []
    },
    {
      "cell_type": "code",
      "source": [
        "df1.head()"
      ],
      "metadata": {
        "colab": {
          "base_uri": "https://localhost:8080/",
          "height": 206
        },
        "id": "kJ9GEtXicsc8",
        "outputId": "a007c9e1-16f7-4534-bdd9-f671607c3bd7"
      },
      "execution_count": null,
      "outputs": [
        {
          "output_type": "execute_result",
          "data": {
            "text/plain": [
              "  Country       Name                                        Description  \\\n",
              "0  France    Abbevie  Abbevie is an important town in the Somme regi...   \n",
              "1  France  Abondance  Abondance is an attractive apine viage best kn...   \n",
              "2  France       Agay  Agay is a viage and coasta resort on the Cote ...   \n",
              "3  France       Agde  Agde is a ivey town on the Heraut river a few ...   \n",
              "4  France       Agen  Agen is the most important (the prefecture) to...   \n",
              "\n",
              "     Latitude   Longtude  \n",
              "0     50.1058     1.8358  \n",
              "1   46.279722   6.722778  \n",
              "2  43.4313092  6.8558399  \n",
              "3     43.3108    3.47583  \n",
              "4     44.2049   0.621153  "
            ],
            "text/html": [
              "\n",
              "  <div id=\"df-54c40c79-adac-4866-aee7-ec61a227e4d8\">\n",
              "    <div class=\"colab-df-container\">\n",
              "      <div>\n",
              "<style scoped>\n",
              "    .dataframe tbody tr th:only-of-type {\n",
              "        vertical-align: middle;\n",
              "    }\n",
              "\n",
              "    .dataframe tbody tr th {\n",
              "        vertical-align: top;\n",
              "    }\n",
              "\n",
              "    .dataframe thead th {\n",
              "        text-align: right;\n",
              "    }\n",
              "</style>\n",
              "<table border=\"1\" class=\"dataframe\">\n",
              "  <thead>\n",
              "    <tr style=\"text-align: right;\">\n",
              "      <th></th>\n",
              "      <th>Country</th>\n",
              "      <th>Name</th>\n",
              "      <th>Description</th>\n",
              "      <th>Latitude</th>\n",
              "      <th>Longtude</th>\n",
              "    </tr>\n",
              "  </thead>\n",
              "  <tbody>\n",
              "    <tr>\n",
              "      <th>0</th>\n",
              "      <td>France</td>\n",
              "      <td>Abbevie</td>\n",
              "      <td>Abbevie is an important town in the Somme regi...</td>\n",
              "      <td>50.1058</td>\n",
              "      <td>1.8358</td>\n",
              "    </tr>\n",
              "    <tr>\n",
              "      <th>1</th>\n",
              "      <td>France</td>\n",
              "      <td>Abondance</td>\n",
              "      <td>Abondance is an attractive apine viage best kn...</td>\n",
              "      <td>46.279722</td>\n",
              "      <td>6.722778</td>\n",
              "    </tr>\n",
              "    <tr>\n",
              "      <th>2</th>\n",
              "      <td>France</td>\n",
              "      <td>Agay</td>\n",
              "      <td>Agay is a viage and coasta resort on the Cote ...</td>\n",
              "      <td>43.4313092</td>\n",
              "      <td>6.8558399</td>\n",
              "    </tr>\n",
              "    <tr>\n",
              "      <th>3</th>\n",
              "      <td>France</td>\n",
              "      <td>Agde</td>\n",
              "      <td>Agde is a ivey town on the Heraut river a few ...</td>\n",
              "      <td>43.3108</td>\n",
              "      <td>3.47583</td>\n",
              "    </tr>\n",
              "    <tr>\n",
              "      <th>4</th>\n",
              "      <td>France</td>\n",
              "      <td>Agen</td>\n",
              "      <td>Agen is the most important (the prefecture) to...</td>\n",
              "      <td>44.2049</td>\n",
              "      <td>0.621153</td>\n",
              "    </tr>\n",
              "  </tbody>\n",
              "</table>\n",
              "</div>\n",
              "      <button class=\"colab-df-convert\" onclick=\"convertToInteractive('df-54c40c79-adac-4866-aee7-ec61a227e4d8')\"\n",
              "              title=\"Convert this dataframe to an interactive table.\"\n",
              "              style=\"display:none;\">\n",
              "        \n",
              "  <svg xmlns=\"http://www.w3.org/2000/svg\" height=\"24px\"viewBox=\"0 0 24 24\"\n",
              "       width=\"24px\">\n",
              "    <path d=\"M0 0h24v24H0V0z\" fill=\"none\"/>\n",
              "    <path d=\"M18.56 5.44l.94 2.06.94-2.06 2.06-.94-2.06-.94-.94-2.06-.94 2.06-2.06.94zm-11 1L8.5 8.5l.94-2.06 2.06-.94-2.06-.94L8.5 2.5l-.94 2.06-2.06.94zm10 10l.94 2.06.94-2.06 2.06-.94-2.06-.94-.94-2.06-.94 2.06-2.06.94z\"/><path d=\"M17.41 7.96l-1.37-1.37c-.4-.4-.92-.59-1.43-.59-.52 0-1.04.2-1.43.59L10.3 9.45l-7.72 7.72c-.78.78-.78 2.05 0 2.83L4 21.41c.39.39.9.59 1.41.59.51 0 1.02-.2 1.41-.59l7.78-7.78 2.81-2.81c.8-.78.8-2.07 0-2.86zM5.41 20L4 18.59l7.72-7.72 1.47 1.35L5.41 20z\"/>\n",
              "  </svg>\n",
              "      </button>\n",
              "      \n",
              "  <style>\n",
              "    .colab-df-container {\n",
              "      display:flex;\n",
              "      flex-wrap:wrap;\n",
              "      gap: 12px;\n",
              "    }\n",
              "\n",
              "    .colab-df-convert {\n",
              "      background-color: #E8F0FE;\n",
              "      border: none;\n",
              "      border-radius: 50%;\n",
              "      cursor: pointer;\n",
              "      display: none;\n",
              "      fill: #1967D2;\n",
              "      height: 32px;\n",
              "      padding: 0 0 0 0;\n",
              "      width: 32px;\n",
              "    }\n",
              "\n",
              "    .colab-df-convert:hover {\n",
              "      background-color: #E2EBFA;\n",
              "      box-shadow: 0px 1px 2px rgba(60, 64, 67, 0.3), 0px 1px 3px 1px rgba(60, 64, 67, 0.15);\n",
              "      fill: #174EA6;\n",
              "    }\n",
              "\n",
              "    [theme=dark] .colab-df-convert {\n",
              "      background-color: #3B4455;\n",
              "      fill: #D2E3FC;\n",
              "    }\n",
              "\n",
              "    [theme=dark] .colab-df-convert:hover {\n",
              "      background-color: #434B5C;\n",
              "      box-shadow: 0px 1px 3px 1px rgba(0, 0, 0, 0.15);\n",
              "      filter: drop-shadow(0px 1px 2px rgba(0, 0, 0, 0.3));\n",
              "      fill: #FFFFFF;\n",
              "    }\n",
              "  </style>\n",
              "\n",
              "      <script>\n",
              "        const buttonEl =\n",
              "          document.querySelector('#df-54c40c79-adac-4866-aee7-ec61a227e4d8 button.colab-df-convert');\n",
              "        buttonEl.style.display =\n",
              "          google.colab.kernel.accessAllowed ? 'block' : 'none';\n",
              "\n",
              "        async function convertToInteractive(key) {\n",
              "          const element = document.querySelector('#df-54c40c79-adac-4866-aee7-ec61a227e4d8');\n",
              "          const dataTable =\n",
              "            await google.colab.kernel.invokeFunction('convertToInteractive',\n",
              "                                                     [key], {});\n",
              "          if (!dataTable) return;\n",
              "\n",
              "          const docLinkHtml = 'Like what you see? Visit the ' +\n",
              "            '<a target=\"_blank\" href=https://colab.research.google.com/notebooks/data_table.ipynb>data table notebook</a>'\n",
              "            + ' to learn more about interactive tables.';\n",
              "          element.innerHTML = '';\n",
              "          dataTable['output_type'] = 'display_data';\n",
              "          await google.colab.output.renderOutput(dataTable, element);\n",
              "          const docLink = document.createElement('div');\n",
              "          docLink.innerHTML = docLinkHtml;\n",
              "          element.appendChild(docLink);\n",
              "        }\n",
              "      </script>\n",
              "    </div>\n",
              "  </div>\n",
              "  "
            ]
          },
          "metadata": {},
          "execution_count": 43
        }
      ]
    },
    {
      "cell_type": "code",
      "source": [
        "df1['Description'][0]"
      ],
      "metadata": {
        "colab": {
          "base_uri": "https://localhost:8080/",
          "height": 178
        },
        "id": "A4npPIJ2ex6u",
        "outputId": "f5ec8138-8038-4210-b705-d7c70ad7c761"
      },
      "execution_count": null,
      "outputs": [
        {
          "output_type": "execute_result",
          "data": {
            "text/plain": [
              "'Abbevie is an important town in the Somme region of Picardy (north-eastern France) between Amiens (to the south-east) and e Crotoy on the coast to the west. It is the proximity of Abbevie to the Bay of Somme that aso attracts a good number of visitors here., Before you start expring you shoud reca that Abbevie suffered from very extensive damage during the Second Word War so you shoud be aware that often when oking at historica monuments you wi be oking at post-war restoration work to a significant degree, incuding the coegia church itsef., The Coegiae Church of Saint-Vufran is much the most impressive monument in Abbevie. The church was buit in the famboyant gothic stye in the 15th century and is especiay renowned for its ornatey decorated facade. The facade has been substantiay ceaned and restored and is now quite a magnificent sight., , Inside the church the soaring stone coumns and arches are aso impressive, whie the most interesting furnishings are a courfu carved wooden atarpiece depicting the story of the nativity, and another depicting Saint John baptising Christ. There are some wonderfu paintings in the church as we, painted in a fairy modern stye., The coegiae church is not the ony site of interest in Abbevie so aw time to expre during your visit., The befry, an imposing square stone tower (very much restored) is isted as a heritage site by UNESCO as one of a group of 32 befries that are situated across northern France and Begium. The befry now contains the Abbevie Museum of Fine Arts, with coections of archaeogica artefacts and aso arts from medieva times to the 19th century., The museum is named after Jacques Boucher-de-Perthes, one of the first peope to discover the science of prehistory in the 19th century, for exampe by the discovery and study of prehistoric stone toos. It was his coection around which the museum was first created., The Church of Saint-Sepucre is visited in particuar for its contemporary stained gass windows by Afred Manessier, added in the 1980s to repace those that disappeared during the war, but be sure to pause to ok at the gothic stye facade on your way in! The windows are exceptionay courfu, and it is said the artist was inspired by the ighting across the andscapes of the bay of Somme., Another nice part of Abbevie is the Jardin dEmonvie estabished around a arge mansion. The park has been attractivey gardened and offers a nice tranqui area to reax., Whie in Abbevie a visit to the Chateau de Bagatee is aso recommended: the caste: it is a 19th century caste (more of a grand manor house reay in my opinion) surrounded by forma gardens in the French stye and extensive parkand., Aso be sure to visit the Jardin de a Pume on the edge of town. This is one of our favourite gardens in France. We aso enjoyed a wak in the peacefu setting of the ess forma Parc dEmonvie. Unfortunatey we didnt have a chance to expre the Parc de a Bouvaque (it was raining) but were tod that it has a good number of ponds and different natura environments and is a good pace for nature vers to expre., , Most excursions in the region wi be towards the coast, perhaps to the resorts and exceent beaches such as those at e Crotoy or Fort-Mahon-Page, or to expre the substantia protected natura reserves around the Bay of Somme., We aso suggest a visit to the abbey and befry at Saint-Riquier, a short distance to the north-east of Abbevie, and the medieva centre of Saint-Vaery-sur-Somme, to the west on the Bay of Somme., Expre esewhere in the North East France. You can find more trave ideas in the Somme guide and the Picardy guide., Cick any picture to start the gaery, Booking.com: best prices, For great prices on car hire throughout France and Corsica pease visit our recommended partner at RentaCars.com, Saint-Riquier, The sma Picardy viage of Saint-Riquier incudes an attractive benedictine abbey church, a befry and other historic monuments, Saint-Vaery-sur-Somme, Saint-Vaery-sur-Somme is one of the nicest towns in the region, especiay the area around the harbour with the od fishermen cottages, e Crotoy, The ng sandy beach is the main attraction in e Crotoy, and the town is aso very peasant to expre, The Bay of the Somme, The Somme Bay is a arge bay with a wide natura habitat, es Jardins de Maizicourt, Beautifu garden to visit in the Somme department in northern France, The Jardin des ianes, The Jardin des ianes is one of our favourite gardens in this region of France, ... or see A recommended paces to visit in Somme, Address: Abbevie, Picardy, 80100, France || GPS coordinates: atitude 50.1058, ngitude 1.8358, Reguar market(s) are hed in Abbevie each Thursday & Saturday. (Markets are hed in the morning uness stated.), The French version of this page is at Abbevie (Francais), We can hep you visit any town, viage or region of France..., ① Ideas & inspiration ② Maps of France ③ Expre by region ④ Route panner ⑤ Paces (by dept.), France This Way copyright 2006 - 2022'"
            ],
            "application/vnd.google.colaboratory.intrinsic+json": {
              "type": "string"
            }
          },
          "metadata": {},
          "execution_count": 49
        }
      ]
    },
    {
      "cell_type": "code",
      "source": [
        "def remove_extra(x):\n",
        "    x=str(x)\n",
        "    pattern= '^(.*)Cick any picture to start the gaery'\n",
        "    l=re.findall(pattern,x)\n",
        "    return l[0]"
      ],
      "metadata": {
        "id": "dlP15K_tcsf8"
      },
      "execution_count": null,
      "outputs": []
    },
    {
      "cell_type": "code",
      "source": [
        "df1.Description= df1.Description.apply(remove_extra)\n",
        "df1"
      ],
      "metadata": {
        "colab": {
          "base_uri": "https://localhost:8080/",
          "height": 300
        },
        "id": "ULMVp_PEdZ9H",
        "outputId": "47809450-f49e-4da5-d1b2-e15d2a5d513b"
      },
      "execution_count": null,
      "outputs": [
        {
          "output_type": "error",
          "ename": "IndexError",
          "evalue": "ignored",
          "traceback": [
            "\u001b[0;31m---------------------------------------------------------------------------\u001b[0m",
            "\u001b[0;31mIndexError\u001b[0m                                Traceback (most recent call last)",
            "\u001b[0;32m<ipython-input-47-83f325ff810d>\u001b[0m in \u001b[0;36m<module>\u001b[0;34m\u001b[0m\n\u001b[0;32m----> 1\u001b[0;31m \u001b[0mdf1\u001b[0m\u001b[0;34m.\u001b[0m\u001b[0mDescription\u001b[0m\u001b[0;34m=\u001b[0m \u001b[0mdf1\u001b[0m\u001b[0;34m.\u001b[0m\u001b[0mDescription\u001b[0m\u001b[0;34m.\u001b[0m\u001b[0mapply\u001b[0m\u001b[0;34m(\u001b[0m\u001b[0mremove_extra\u001b[0m\u001b[0;34m)\u001b[0m\u001b[0;34m\u001b[0m\u001b[0;34m\u001b[0m\u001b[0m\n\u001b[0m\u001b[1;32m      2\u001b[0m \u001b[0mdf1\u001b[0m\u001b[0;34m\u001b[0m\u001b[0;34m\u001b[0m\u001b[0m\n",
            "\u001b[0;32m/usr/local/lib/python3.8/dist-packages/pandas/core/series.py\u001b[0m in \u001b[0;36mapply\u001b[0;34m(self, func, convert_dtype, args, **kwargs)\u001b[0m\n\u001b[1;32m   4355\u001b[0m         \u001b[0mdtype\u001b[0m\u001b[0;34m:\u001b[0m \u001b[0mfloat64\u001b[0m\u001b[0;34m\u001b[0m\u001b[0;34m\u001b[0m\u001b[0m\n\u001b[1;32m   4356\u001b[0m         \"\"\"\n\u001b[0;32m-> 4357\u001b[0;31m         \u001b[0;32mreturn\u001b[0m \u001b[0mSeriesApply\u001b[0m\u001b[0;34m(\u001b[0m\u001b[0mself\u001b[0m\u001b[0;34m,\u001b[0m \u001b[0mfunc\u001b[0m\u001b[0;34m,\u001b[0m \u001b[0mconvert_dtype\u001b[0m\u001b[0;34m,\u001b[0m \u001b[0margs\u001b[0m\u001b[0;34m,\u001b[0m \u001b[0mkwargs\u001b[0m\u001b[0;34m)\u001b[0m\u001b[0;34m.\u001b[0m\u001b[0mapply\u001b[0m\u001b[0;34m(\u001b[0m\u001b[0;34m)\u001b[0m\u001b[0;34m\u001b[0m\u001b[0;34m\u001b[0m\u001b[0m\n\u001b[0m\u001b[1;32m   4358\u001b[0m \u001b[0;34m\u001b[0m\u001b[0m\n\u001b[1;32m   4359\u001b[0m     def _reduce(\n",
            "\u001b[0;32m/usr/local/lib/python3.8/dist-packages/pandas/core/apply.py\u001b[0m in \u001b[0;36mapply\u001b[0;34m(self)\u001b[0m\n\u001b[1;32m   1041\u001b[0m             \u001b[0;32mreturn\u001b[0m \u001b[0mself\u001b[0m\u001b[0;34m.\u001b[0m\u001b[0mapply_str\u001b[0m\u001b[0;34m(\u001b[0m\u001b[0;34m)\u001b[0m\u001b[0;34m\u001b[0m\u001b[0;34m\u001b[0m\u001b[0m\n\u001b[1;32m   1042\u001b[0m \u001b[0;34m\u001b[0m\u001b[0m\n\u001b[0;32m-> 1043\u001b[0;31m         \u001b[0;32mreturn\u001b[0m \u001b[0mself\u001b[0m\u001b[0;34m.\u001b[0m\u001b[0mapply_standard\u001b[0m\u001b[0;34m(\u001b[0m\u001b[0;34m)\u001b[0m\u001b[0;34m\u001b[0m\u001b[0;34m\u001b[0m\u001b[0m\n\u001b[0m\u001b[1;32m   1044\u001b[0m \u001b[0;34m\u001b[0m\u001b[0m\n\u001b[1;32m   1045\u001b[0m     \u001b[0;32mdef\u001b[0m \u001b[0magg\u001b[0m\u001b[0;34m(\u001b[0m\u001b[0mself\u001b[0m\u001b[0;34m)\u001b[0m\u001b[0;34m:\u001b[0m\u001b[0;34m\u001b[0m\u001b[0;34m\u001b[0m\u001b[0m\n",
            "\u001b[0;32m/usr/local/lib/python3.8/dist-packages/pandas/core/apply.py\u001b[0m in \u001b[0;36mapply_standard\u001b[0;34m(self)\u001b[0m\n\u001b[1;32m   1096\u001b[0m                 \u001b[0;31m# List[Union[Callable[..., Any], str]]]]]\"; expected\u001b[0m\u001b[0;34m\u001b[0m\u001b[0;34m\u001b[0m\u001b[0;34m\u001b[0m\u001b[0m\n\u001b[1;32m   1097\u001b[0m                 \u001b[0;31m# \"Callable[[Any], Any]\"\u001b[0m\u001b[0;34m\u001b[0m\u001b[0;34m\u001b[0m\u001b[0;34m\u001b[0m\u001b[0m\n\u001b[0;32m-> 1098\u001b[0;31m                 mapped = lib.map_infer(\n\u001b[0m\u001b[1;32m   1099\u001b[0m                     \u001b[0mvalues\u001b[0m\u001b[0;34m,\u001b[0m\u001b[0;34m\u001b[0m\u001b[0;34m\u001b[0m\u001b[0m\n\u001b[1;32m   1100\u001b[0m                     \u001b[0mf\u001b[0m\u001b[0;34m,\u001b[0m  \u001b[0;31m# type: ignore[arg-type]\u001b[0m\u001b[0;34m\u001b[0m\u001b[0;34m\u001b[0m\u001b[0m\n",
            "\u001b[0;32m/usr/local/lib/python3.8/dist-packages/pandas/_libs/lib.pyx\u001b[0m in \u001b[0;36mpandas._libs.lib.map_infer\u001b[0;34m()\u001b[0m\n",
            "\u001b[0;32m<ipython-input-46-5b76148a3bbe>\u001b[0m in \u001b[0;36mremove_extra\u001b[0;34m(x)\u001b[0m\n\u001b[1;32m      4\u001b[0m     \u001b[0mtext\u001b[0m \u001b[0;34m=\u001b[0m \u001b[0mpattern\u001b[0m\u001b[0;34m.\u001b[0m\u001b[0mencode\u001b[0m\u001b[0;34m(\u001b[0m\u001b[0;34m'unicode_escape'\u001b[0m\u001b[0;34m)\u001b[0m\u001b[0;34m.\u001b[0m\u001b[0mdecode\u001b[0m\u001b[0;34m(\u001b[0m\u001b[0;34m'ascii'\u001b[0m\u001b[0;34m)\u001b[0m\u001b[0;34m\u001b[0m\u001b[0;34m\u001b[0m\u001b[0m\n\u001b[1;32m      5\u001b[0m     \u001b[0ml\u001b[0m\u001b[0;34m=\u001b[0m\u001b[0mre\u001b[0m\u001b[0;34m.\u001b[0m\u001b[0mfindall\u001b[0m\u001b[0;34m(\u001b[0m\u001b[0mtext\u001b[0m\u001b[0;34m,\u001b[0m\u001b[0mx\u001b[0m\u001b[0;34m)\u001b[0m\u001b[0;34m\u001b[0m\u001b[0;34m\u001b[0m\u001b[0m\n\u001b[0;32m----> 6\u001b[0;31m     \u001b[0;32mreturn\u001b[0m \u001b[0ml\u001b[0m\u001b[0;34m[\u001b[0m\u001b[0;36m0\u001b[0m\u001b[0;34m]\u001b[0m\u001b[0;34m\u001b[0m\u001b[0;34m\u001b[0m\u001b[0m\n\u001b[0m",
            "\u001b[0;31mIndexError\u001b[0m: list index out of range"
          ]
        }
      ]
    },
    {
      "cell_type": "code",
      "source": [],
      "metadata": {
        "id": "23QFWf0fe9HE"
      },
      "execution_count": null,
      "outputs": []
    },
    {
      "cell_type": "code",
      "source": [],
      "metadata": {
        "id": "oLEq0F3qe9JA"
      },
      "execution_count": null,
      "outputs": []
    },
    {
      "cell_type": "code",
      "source": [],
      "metadata": {
        "id": "Pdw2uNp1e9Lc"
      },
      "execution_count": null,
      "outputs": []
    },
    {
      "cell_type": "code",
      "source": [],
      "metadata": {
        "id": "6WQ7k8bqe9Nx"
      },
      "execution_count": null,
      "outputs": []
    },
    {
      "cell_type": "code",
      "source": [
        "st = 'Abbevie is an important town in the Somme region of Picardy (north-eastern France) between Amiens (to the south-east) and e Crotoy on the coast to the west. It is the proximity of Abbevie to the Bay of Somme that aso attracts a good number of visitors here., Before you start expring you shoud reca that Abbevie suffered from very extensive damage during the Second Word War so you shoud be aware that often when oking at historica monuments you wi be oking at post-war restoration work to a significant degree, incuding the coegia church itsef., The Coegiae Church of Saint-Vufran is much the most impressive monument in Abbevie. The church was buit in the famboyant gothic stye in the 15th century and is especiay renowned for its ornatey decorated facade. The facade has been substantiay ceaned and restored and is now quite a magnificent sight., , Inside the church the soaring stone coumns and arches are aso impressive, whie the most interesting furnishings are a courfu carved wooden atarpiece depicting the story of the nativity, and another depicting Saint John baptising Christ. There are some wonderfu paintings in the church as we, painted in a fairy modern stye., The coegiae church is not the ony site of interest in Abbevie so aw time to expre during your visit., The befry, an imposing square stone tower (very much restored) is isted as a heritage site by UNESCO as one of a group of 32 befries that are situated across northern France and Begium. The befry now contains the Abbevie Museum of Fine Arts, with coections of archaeogica artefacts and aso arts from medieva times to the 19th century., The museum is named after Jacques Boucher-de-Perthes, one of the first peope to discover the science of prehistory in the 19th century, for exampe by the discovery and study of prehistoric stone toos. It was his coection around which the museum was first created., The Church of Saint-Sepucre is visited in particuar for its contemporary stained gass windows by Afred Manessier, added in the 1980s to repace those that disappeared during the war, but be sure to pause to ok at the gothic stye facade on your way in! The windows are exceptionay courfu, and it is said the artist was inspired by the ighting across the andscapes of the bay of Somme., Another nice part of Abbevie is the Jardin dEmonvie estabished around a arge mansion. The park has been attractivey gardened and offers a nice tranqui area to reax., Whie in Abbevie a visit to the Chateau de Bagatee is aso recommended: the caste: it is a 19th century caste (more of a grand manor house reay in my opinion) surrounded by forma gardens in the French stye and extensive parkand., Aso be sure to visit the Jardin de a Pume on the edge of town. This is one of our favourite gardens in France. We aso enjoyed a wak in the peacefu setting of the ess forma Parc dEmonvie. Unfortunatey we didnt have a chance to expre the Parc de a Bouvaque (it was raining) but were tod that it has a good number of ponds and different natura environments and is a good pace for nature vers to expre., , Most excursions in the region wi be towards the coast, perhaps to the resorts and exceent beaches such as those at e Crotoy or Fort-Mahon-Page, or to expre the substantia protected natura reserves around the Bay of Somme., We aso suggest a visit to the abbey and befry at Saint-Riquier, a short distance to the north-east of Abbevie, and the medieva centre of Saint-Vaery-sur-Somme, to the west on the Bay of Somme., Expre esewhere in the North East France. You can find more trave ideas in the Somme guide and the Picardy guide., Cick any picture to start the gaery, Booking.com: best prices, For great prices on car hire throughout France and Corsica pease visit our recommended partner at RentaCars.com, Saint-Riquier, The sma Picardy viage of Saint-Riquier incudes an attractive benedictine abbey church, a befry and other historic monuments, Saint-Vaery-sur-Somme, Saint-Vaery-sur-Somme is one of the nicest towns in the region, especiay the area around the harbour with the od fishermen cottages, e Crotoy, The ng sandy beach is the main attraction in e Crotoy, and the town is aso very peasant to expre, The Bay of the Somme, The Somme Bay is a arge bay with a wide natura habitat, es Jardins de Maizicourt, Beautifu garden to visit in the Somme department in northern France, The Jardin des ianes, The Jardin des ianes is one of our favourite gardens in this region of France, ... or see A recommended paces to visit in Somme, Address: Abbevie, Picardy, 80100, France || GPS coordinates: atitude 50.1058, ngitude 1.8358, Reguar market(s) are hed in Abbevie each Thursday & Saturday. (Markets are hed in the morning uness stated.), The French version of this page is at Abbevie (Francais), We can hep you visit any town, viage or region of France..., ① Ideas & inspiration ② Maps of France ③ Expre by region ④ Route panner ⑤ Paces (by dept.), France This Way copyright 2006 - 2022'"
      ],
      "metadata": {
        "id": "uWADag2qe9QJ"
      },
      "execution_count": null,
      "outputs": []
    },
    {
      "cell_type": "code",
      "source": [],
      "metadata": {
        "id": "F0inrmCwh8EF"
      },
      "execution_count": null,
      "outputs": []
    },
    {
      "cell_type": "code",
      "source": [
        "pattern= '^(.*)Cick any picture to start the gaery'\n",
        "#text = pattern.encode('unicode_escape').decode('ascii')\n",
        "#print(text)\n",
        "l=re.findall(pattern,st)"
      ],
      "metadata": {
        "id": "rMcrqYlhfBwx"
      },
      "execution_count": null,
      "outputs": []
    },
    {
      "cell_type": "code",
      "source": [
        "l[0]"
      ],
      "metadata": {
        "colab": {
          "base_uri": "https://localhost:8080/",
          "height": 178
        },
        "id": "BpUnWY-6fIKv",
        "outputId": "ee9274b1-7504-4a29-e3bc-bfab8ac9ee50"
      },
      "execution_count": null,
      "outputs": [
        {
          "output_type": "execute_result",
          "data": {
            "text/plain": [
              "'Abbevie is an important town in the Somme region of Picardy (north-eastern France) between Amiens (to the south-east) and e Crotoy on the coast to the west. It is the proximity of Abbevie to the Bay of Somme that aso attracts a good number of visitors here., Before you start expring you shoud reca that Abbevie suffered from very extensive damage during the Second Word War so you shoud be aware that often when oking at historica monuments you wi be oking at post-war restoration work to a significant degree, incuding the coegia church itsef., The Coegiae Church of Saint-Vufran is much the most impressive monument in Abbevie. The church was buit in the famboyant gothic stye in the 15th century and is especiay renowned for its ornatey decorated facade. The facade has been substantiay ceaned and restored and is now quite a magnificent sight., , Inside the church the soaring stone coumns and arches are aso impressive, whie the most interesting furnishings are a courfu carved wooden atarpiece depicting the story of the nativity, and another depicting Saint John baptising Christ. There are some wonderfu paintings in the church as we, painted in a fairy modern stye., The coegiae church is not the ony site of interest in Abbevie so aw time to expre during your visit., The befry, an imposing square stone tower (very much restored) is isted as a heritage site by UNESCO as one of a group of 32 befries that are situated across northern France and Begium. The befry now contains the Abbevie Museum of Fine Arts, with coections of archaeogica artefacts and aso arts from medieva times to the 19th century., The museum is named after Jacques Boucher-de-Perthes, one of the first peope to discover the science of prehistory in the 19th century, for exampe by the discovery and study of prehistoric stone toos. It was his coection around which the museum was first created., The Church of Saint-Sepucre is visited in particuar for its contemporary stained gass windows by Afred Manessier, added in the 1980s to repace those that disappeared during the war, but be sure to pause to ok at the gothic stye facade on your way in! The windows are exceptionay courfu, and it is said the artist was inspired by the ighting across the andscapes of the bay of Somme., Another nice part of Abbevie is the Jardin dEmonvie estabished around a arge mansion. The park has been attractivey gardened and offers a nice tranqui area to reax., Whie in Abbevie a visit to the Chateau de Bagatee is aso recommended: the caste: it is a 19th century caste (more of a grand manor house reay in my opinion) surrounded by forma gardens in the French stye and extensive parkand., Aso be sure to visit the Jardin de a Pume on the edge of town. This is one of our favourite gardens in France. We aso enjoyed a wak in the peacefu setting of the ess forma Parc dEmonvie. Unfortunatey we didnt have a chance to expre the Parc de a Bouvaque (it was raining) but were tod that it has a good number of ponds and different natura environments and is a good pace for nature vers to expre., , Most excursions in the region wi be towards the coast, perhaps to the resorts and exceent beaches such as those at e Crotoy or Fort-Mahon-Page, or to expre the substantia protected natura reserves around the Bay of Somme., We aso suggest a visit to the abbey and befry at Saint-Riquier, a short distance to the north-east of Abbevie, and the medieva centre of Saint-Vaery-sur-Somme, to the west on the Bay of Somme., Expre esewhere in the North East France. You can find more trave ideas in the Somme guide and the Picardy guide., '"
            ],
            "application/vnd.google.colaboratory.intrinsic+json": {
              "type": "string"
            }
          },
          "metadata": {},
          "execution_count": 65
        }
      ]
    }
  ]
}