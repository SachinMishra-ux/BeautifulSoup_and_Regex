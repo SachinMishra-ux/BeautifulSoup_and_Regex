{
 "cells": [
  {
   "cell_type": "code",
   "execution_count": 2,
   "metadata": {},
   "outputs": [],
   "source": [
    "import pandas as pd\n",
    "import numpy as np\n",
    "import matplotlib\n",
    "import matplotlib.pyplot as plt\n",
    "import geopandas as gpd"
   ]
  },
  {
   "cell_type": "code",
   "execution_count": 3,
   "metadata": {},
   "outputs": [],
   "source": [
    "df= pd.read_csv('french_data.csv')"
   ]
  },
  {
   "cell_type": "code",
   "execution_count": 4,
   "metadata": {},
   "outputs": [
    {
     "data": {
      "text/html": [
       "<div>\n",
       "<style scoped>\n",
       "    .dataframe tbody tr th:only-of-type {\n",
       "        vertical-align: middle;\n",
       "    }\n",
       "\n",
       "    .dataframe tbody tr th {\n",
       "        vertical-align: top;\n",
       "    }\n",
       "\n",
       "    .dataframe thead th {\n",
       "        text-align: right;\n",
       "    }\n",
       "</style>\n",
       "<table border=\"1\" class=\"dataframe\">\n",
       "  <thead>\n",
       "    <tr style=\"text-align: right;\">\n",
       "      <th></th>\n",
       "      <th>Country</th>\n",
       "      <th>Name</th>\n",
       "      <th>Description(Intro)</th>\n",
       "      <th>Latitude</th>\n",
       "      <th>Longtude</th>\n",
       "    </tr>\n",
       "  </thead>\n",
       "  <tbody>\n",
       "    <tr>\n",
       "      <th>0</th>\n",
       "      <td>France</td>\n",
       "      <td>Abbevie</td>\n",
       "      <td>Abbevie is an important town in the Somme regi...</td>\n",
       "      <td>50.1058</td>\n",
       "      <td>1.8358</td>\n",
       "    </tr>\n",
       "    <tr>\n",
       "      <th>1</th>\n",
       "      <td>France</td>\n",
       "      <td>Abondance</td>\n",
       "      <td>Abondance is an attractive apine viage best kn...</td>\n",
       "      <td>46.279722</td>\n",
       "      <td>6.722778</td>\n",
       "    </tr>\n",
       "    <tr>\n",
       "      <th>2</th>\n",
       "      <td>France</td>\n",
       "      <td>Agay</td>\n",
       "      <td>Agay is a viage and coasta resort on the Cote ...</td>\n",
       "      <td>43.4313092</td>\n",
       "      <td>6.8558399</td>\n",
       "    </tr>\n",
       "    <tr>\n",
       "      <th>3</th>\n",
       "      <td>France</td>\n",
       "      <td>Agde</td>\n",
       "      <td>Agde is a ivey town on the Heraut river a few ...</td>\n",
       "      <td>43.3108</td>\n",
       "      <td>3.47583</td>\n",
       "    </tr>\n",
       "    <tr>\n",
       "      <th>4</th>\n",
       "      <td>France</td>\n",
       "      <td>Agen</td>\n",
       "      <td>Agen is the most important (the prefecture) to...</td>\n",
       "      <td>44.2049</td>\n",
       "      <td>0.621153</td>\n",
       "    </tr>\n",
       "  </tbody>\n",
       "</table>\n",
       "</div>"
      ],
      "text/plain": [
       "  Country       Name                                 Description(Intro)  \\\n",
       "0  France    Abbevie  Abbevie is an important town in the Somme regi...   \n",
       "1  France  Abondance  Abondance is an attractive apine viage best kn...   \n",
       "2  France       Agay  Agay is a viage and coasta resort on the Cote ...   \n",
       "3  France       Agde  Agde is a ivey town on the Heraut river a few ...   \n",
       "4  France       Agen  Agen is the most important (the prefecture) to...   \n",
       "\n",
       "     Latitude   Longtude  \n",
       "0     50.1058     1.8358  \n",
       "1   46.279722   6.722778  \n",
       "2  43.4313092  6.8558399  \n",
       "3     43.3108    3.47583  \n",
       "4     44.2049   0.621153  "
      ]
     },
     "execution_count": 4,
     "metadata": {},
     "output_type": "execute_result"
    }
   ],
   "source": [
    "df.head()"
   ]
  },
  {
   "cell_type": "code",
   "execution_count": 24,
   "metadata": {},
   "outputs": [],
   "source": [
    "# df['Latitude_new']=pd.to_numeric(df.Latitude, downcast='float', errors='ignore')"
   ]
  },
  {
   "cell_type": "code",
   "execution_count": 5,
   "metadata": {},
   "outputs": [
    {
     "data": {
      "text/html": [
       "<div>\n",
       "<style scoped>\n",
       "    .dataframe tbody tr th:only-of-type {\n",
       "        vertical-align: middle;\n",
       "    }\n",
       "\n",
       "    .dataframe tbody tr th {\n",
       "        vertical-align: top;\n",
       "    }\n",
       "\n",
       "    .dataframe thead th {\n",
       "        text-align: right;\n",
       "    }\n",
       "</style>\n",
       "<table border=\"1\" class=\"dataframe\">\n",
       "  <thead>\n",
       "    <tr style=\"text-align: right;\">\n",
       "      <th></th>\n",
       "      <th>Country</th>\n",
       "      <th>Name</th>\n",
       "      <th>Description(Intro)</th>\n",
       "      <th>Latitude</th>\n",
       "      <th>Longtude</th>\n",
       "    </tr>\n",
       "  </thead>\n",
       "  <tbody>\n",
       "    <tr>\n",
       "      <th>0</th>\n",
       "      <td>France</td>\n",
       "      <td>Abbevie</td>\n",
       "      <td>Abbevie is an important town in the Somme regi...</td>\n",
       "      <td>50.1058</td>\n",
       "      <td>1.8358</td>\n",
       "    </tr>\n",
       "    <tr>\n",
       "      <th>1</th>\n",
       "      <td>France</td>\n",
       "      <td>Abondance</td>\n",
       "      <td>Abondance is an attractive apine viage best kn...</td>\n",
       "      <td>46.279722</td>\n",
       "      <td>6.722778</td>\n",
       "    </tr>\n",
       "    <tr>\n",
       "      <th>2</th>\n",
       "      <td>France</td>\n",
       "      <td>Agay</td>\n",
       "      <td>Agay is a viage and coasta resort on the Cote ...</td>\n",
       "      <td>43.4313092</td>\n",
       "      <td>6.8558399</td>\n",
       "    </tr>\n",
       "    <tr>\n",
       "      <th>3</th>\n",
       "      <td>France</td>\n",
       "      <td>Agde</td>\n",
       "      <td>Agde is a ivey town on the Heraut river a few ...</td>\n",
       "      <td>43.3108</td>\n",
       "      <td>3.47583</td>\n",
       "    </tr>\n",
       "    <tr>\n",
       "      <th>4</th>\n",
       "      <td>France</td>\n",
       "      <td>Agen</td>\n",
       "      <td>Agen is the most important (the prefecture) to...</td>\n",
       "      <td>44.2049</td>\n",
       "      <td>0.621153</td>\n",
       "    </tr>\n",
       "  </tbody>\n",
       "</table>\n",
       "</div>"
      ],
      "text/plain": [
       "  Country       Name                                 Description(Intro)  \\\n",
       "0  France    Abbevie  Abbevie is an important town in the Somme regi...   \n",
       "1  France  Abondance  Abondance is an attractive apine viage best kn...   \n",
       "2  France       Agay  Agay is a viage and coasta resort on the Cote ...   \n",
       "3  France       Agde  Agde is a ivey town on the Heraut river a few ...   \n",
       "4  France       Agen  Agen is the most important (the prefecture) to...   \n",
       "\n",
       "     Latitude   Longtude  \n",
       "0     50.1058     1.8358  \n",
       "1   46.279722   6.722778  \n",
       "2  43.4313092  6.8558399  \n",
       "3     43.3108    3.47583  \n",
       "4     44.2049   0.621153  "
      ]
     },
     "execution_count": 5,
     "metadata": {},
     "output_type": "execute_result"
    }
   ],
   "source": [
    "df.head()"
   ]
  },
  {
   "cell_type": "code",
   "execution_count": 6,
   "metadata": {},
   "outputs": [
    {
     "data": {
      "text/plain": [
       "Country               object\n",
       "Name                  object\n",
       "Description(Intro)    object\n",
       "Latitude              object\n",
       "Longtude              object\n",
       "dtype: object"
      ]
     },
     "execution_count": 6,
     "metadata": {},
     "output_type": "execute_result"
    }
   ],
   "source": [
    "df.dtypes"
   ]
  },
  {
   "cell_type": "code",
   "execution_count": 7,
   "metadata": {},
   "outputs": [],
   "source": [
    "def float_con(x):\n",
    "    try:\n",
    "        ans=tokens=x.split(\" \")\n",
    "        return ans[0]\n",
    "    except:\n",
    "        return float(x)"
   ]
  },
  {
   "cell_type": "code",
   "execution_count": 8,
   "metadata": {},
   "outputs": [],
   "source": [
    "s='abc 1'\n",
    "a=s.split()"
   ]
  },
  {
   "cell_type": "code",
   "execution_count": 9,
   "metadata": {},
   "outputs": [
    {
     "data": {
      "text/plain": [
       "['abc', '1']"
      ]
     },
     "execution_count": 9,
     "metadata": {},
     "output_type": "execute_result"
    }
   ],
   "source": [
    "a"
   ]
  },
  {
   "cell_type": "code",
   "execution_count": 10,
   "metadata": {},
   "outputs": [],
   "source": [
    "df.Latitude= df.Latitude.apply(float_con)"
   ]
  },
  {
   "cell_type": "code",
   "execution_count": null,
   "metadata": {},
   "outputs": [],
   "source": []
  },
  {
   "cell_type": "code",
   "execution_count": 11,
   "metadata": {},
   "outputs": [
    {
     "data": {
      "text/html": [
       "<div>\n",
       "<style scoped>\n",
       "    .dataframe tbody tr th:only-of-type {\n",
       "        vertical-align: middle;\n",
       "    }\n",
       "\n",
       "    .dataframe tbody tr th {\n",
       "        vertical-align: top;\n",
       "    }\n",
       "\n",
       "    .dataframe thead th {\n",
       "        text-align: right;\n",
       "    }\n",
       "</style>\n",
       "<table border=\"1\" class=\"dataframe\">\n",
       "  <thead>\n",
       "    <tr style=\"text-align: right;\">\n",
       "      <th></th>\n",
       "      <th>Country</th>\n",
       "      <th>Name</th>\n",
       "      <th>Description(Intro)</th>\n",
       "      <th>Latitude</th>\n",
       "      <th>Longtude</th>\n",
       "    </tr>\n",
       "  </thead>\n",
       "  <tbody>\n",
       "    <tr>\n",
       "      <th>0</th>\n",
       "      <td>France</td>\n",
       "      <td>Abbevie</td>\n",
       "      <td>Abbevie is an important town in the Somme regi...</td>\n",
       "      <td>50.1058</td>\n",
       "      <td>1.8358</td>\n",
       "    </tr>\n",
       "    <tr>\n",
       "      <th>1</th>\n",
       "      <td>France</td>\n",
       "      <td>Abondance</td>\n",
       "      <td>Abondance is an attractive apine viage best kn...</td>\n",
       "      <td>46.279722</td>\n",
       "      <td>6.722778</td>\n",
       "    </tr>\n",
       "    <tr>\n",
       "      <th>2</th>\n",
       "      <td>France</td>\n",
       "      <td>Agay</td>\n",
       "      <td>Agay is a viage and coasta resort on the Cote ...</td>\n",
       "      <td>43.4313092</td>\n",
       "      <td>6.8558399</td>\n",
       "    </tr>\n",
       "    <tr>\n",
       "      <th>3</th>\n",
       "      <td>France</td>\n",
       "      <td>Agde</td>\n",
       "      <td>Agde is a ivey town on the Heraut river a few ...</td>\n",
       "      <td>43.3108</td>\n",
       "      <td>3.47583</td>\n",
       "    </tr>\n",
       "    <tr>\n",
       "      <th>4</th>\n",
       "      <td>France</td>\n",
       "      <td>Agen</td>\n",
       "      <td>Agen is the most important (the prefecture) to...</td>\n",
       "      <td>44.2049</td>\n",
       "      <td>0.621153</td>\n",
       "    </tr>\n",
       "    <tr>\n",
       "      <th>...</th>\n",
       "      <td>...</td>\n",
       "      <td>...</td>\n",
       "      <td>...</td>\n",
       "      <td>...</td>\n",
       "      <td>...</td>\n",
       "    </tr>\n",
       "    <tr>\n",
       "      <th>1148</th>\n",
       "      <td>France</td>\n",
       "      <td>Viviers</td>\n",
       "      <td>Viviers is cated in the southern-centra part o...</td>\n",
       "      <td>44.4836</td>\n",
       "      <td>4.68972</td>\n",
       "    </tr>\n",
       "    <tr>\n",
       "      <th>1149</th>\n",
       "      <td>France</td>\n",
       "      <td>Vizie</td>\n",
       "      <td>The sma town of Vizie is dominated by its arge...</td>\n",
       "      <td>45.0756</td>\n",
       "      <td>5.7732</td>\n",
       "    </tr>\n",
       "    <tr>\n",
       "      <th>1150</th>\n",
       "      <td>France</td>\n",
       "      <td>Vogue</td>\n",
       "      <td>The viag of Vogue (correct French name Vogüé) ...</td>\n",
       "      <td>44.5514</td>\n",
       "      <td>4.41528</td>\n",
       "    </tr>\n",
       "    <tr>\n",
       "      <th>1151</th>\n",
       "      <td>France</td>\n",
       "      <td>Vovic</td>\n",
       "      <td>The town of Vovic is cated in centra France, 1...</td>\n",
       "      <td>45.871</td>\n",
       "      <td>3.0377</td>\n",
       "    </tr>\n",
       "    <tr>\n",
       "      <th>1152</th>\n",
       "      <td>France</td>\n",
       "      <td>Vouvant</td>\n",
       "      <td>Vouvant is a viage 12 kimetres north of Fonten...</td>\n",
       "      <td>46.573</td>\n",
       "      <td>-0.768</td>\n",
       "    </tr>\n",
       "  </tbody>\n",
       "</table>\n",
       "<p>1153 rows × 5 columns</p>\n",
       "</div>"
      ],
      "text/plain": [
       "     Country       Name                                 Description(Intro)  \\\n",
       "0     France    Abbevie  Abbevie is an important town in the Somme regi...   \n",
       "1     France  Abondance  Abondance is an attractive apine viage best kn...   \n",
       "2     France       Agay  Agay is a viage and coasta resort on the Cote ...   \n",
       "3     France       Agde  Agde is a ivey town on the Heraut river a few ...   \n",
       "4     France       Agen  Agen is the most important (the prefecture) to...   \n",
       "...      ...        ...                                                ...   \n",
       "1148  France    Viviers  Viviers is cated in the southern-centra part o...   \n",
       "1149  France      Vizie  The sma town of Vizie is dominated by its arge...   \n",
       "1150  France      Vogue  The viag of Vogue (correct French name Vogüé) ...   \n",
       "1151  France      Vovic  The town of Vovic is cated in centra France, 1...   \n",
       "1152  France    Vouvant  Vouvant is a viage 12 kimetres north of Fonten...   \n",
       "\n",
       "        Latitude   Longtude  \n",
       "0        50.1058     1.8358  \n",
       "1      46.279722   6.722778  \n",
       "2     43.4313092  6.8558399  \n",
       "3        43.3108    3.47583  \n",
       "4        44.2049   0.621153  \n",
       "...          ...        ...  \n",
       "1148     44.4836    4.68972  \n",
       "1149     45.0756     5.7732  \n",
       "1150     44.5514    4.41528  \n",
       "1151      45.871     3.0377  \n",
       "1152      46.573     -0.768  \n",
       "\n",
       "[1153 rows x 5 columns]"
      ]
     },
     "execution_count": 11,
     "metadata": {},
     "output_type": "execute_result"
    }
   ],
   "source": [
    "df"
   ]
  },
  {
   "cell_type": "code",
   "execution_count": 12,
   "metadata": {},
   "outputs": [
    {
     "data": {
      "text/plain": [
       "Country               object\n",
       "Name                  object\n",
       "Description(Intro)    object\n",
       "Latitude              object\n",
       "Longtude              object\n",
       "dtype: object"
      ]
     },
     "execution_count": 12,
     "metadata": {},
     "output_type": "execute_result"
    }
   ],
   "source": [
    "df.dtypes"
   ]
  },
  {
   "cell_type": "code",
   "execution_count": 13,
   "metadata": {},
   "outputs": [],
   "source": [
    "file= 'new_frenach1233.csv'\n",
    "df.to_csv(file)"
   ]
  },
  {
   "cell_type": "code",
   "execution_count": 40,
   "metadata": {},
   "outputs": [
    {
     "data": {
      "text/plain": [
       "1124"
      ]
     },
     "execution_count": 40,
     "metadata": {},
     "output_type": "execute_result"
    }
   ],
   "source": [
    "len(df.Latitude.unique())"
   ]
  },
  {
   "cell_type": "code",
   "execution_count": 13,
   "metadata": {},
   "outputs": [],
   "source": [
    "def float_con1(x):\n",
    "    try:\n",
    "        x=float(x)\n",
    "        return x\n",
    "    except:\n",
    "        df.drop()\n",
    "            \n",
    "        "
   ]
  },
  {
   "cell_type": "code",
   "execution_count": null,
   "metadata": {},
   "outputs": [],
   "source": [
    "def isfloat(num):\n",
    "    try:\n",
    "        float(num)\n",
    "        return num\n",
    "    except ValueError:\n",
    "        return False\n",
    "\n",
    "print(isfloat('s12'))\n",
    "print(isfloat('1.123'))"
   ]
  },
  {
   "cell_type": "code",
   "execution_count": 14,
   "metadata": {},
   "outputs": [],
   "source": [
    "df= pd.read_csv('new_frenach1233.csv')"
   ]
  },
  {
   "cell_type": "code",
   "execution_count": 15,
   "metadata": {},
   "outputs": [
    {
     "data": {
      "text/html": [
       "<div>\n",
       "<style scoped>\n",
       "    .dataframe tbody tr th:only-of-type {\n",
       "        vertical-align: middle;\n",
       "    }\n",
       "\n",
       "    .dataframe tbody tr th {\n",
       "        vertical-align: top;\n",
       "    }\n",
       "\n",
       "    .dataframe thead th {\n",
       "        text-align: right;\n",
       "    }\n",
       "</style>\n",
       "<table border=\"1\" class=\"dataframe\">\n",
       "  <thead>\n",
       "    <tr style=\"text-align: right;\">\n",
       "      <th></th>\n",
       "      <th>Unnamed: 0</th>\n",
       "      <th>Country</th>\n",
       "      <th>Name</th>\n",
       "      <th>Description(Intro)</th>\n",
       "      <th>Latitude</th>\n",
       "      <th>Longtude</th>\n",
       "    </tr>\n",
       "  </thead>\n",
       "  <tbody>\n",
       "    <tr>\n",
       "      <th>0</th>\n",
       "      <td>0</td>\n",
       "      <td>France</td>\n",
       "      <td>Abbevie</td>\n",
       "      <td>Abbevie is an important town in the Somme regi...</td>\n",
       "      <td>50.1058</td>\n",
       "      <td>1.8358</td>\n",
       "    </tr>\n",
       "    <tr>\n",
       "      <th>1</th>\n",
       "      <td>1</td>\n",
       "      <td>France</td>\n",
       "      <td>Abondance</td>\n",
       "      <td>Abondance is an attractive apine viage best kn...</td>\n",
       "      <td>46.279722</td>\n",
       "      <td>6.722778</td>\n",
       "    </tr>\n",
       "    <tr>\n",
       "      <th>2</th>\n",
       "      <td>2</td>\n",
       "      <td>France</td>\n",
       "      <td>Agay</td>\n",
       "      <td>Agay is a viage and coasta resort on the Cote ...</td>\n",
       "      <td>43.4313092</td>\n",
       "      <td>6.8558399</td>\n",
       "    </tr>\n",
       "    <tr>\n",
       "      <th>3</th>\n",
       "      <td>3</td>\n",
       "      <td>France</td>\n",
       "      <td>Agde</td>\n",
       "      <td>Agde is a ivey town on the Heraut river a few ...</td>\n",
       "      <td>43.3108</td>\n",
       "      <td>3.47583</td>\n",
       "    </tr>\n",
       "    <tr>\n",
       "      <th>4</th>\n",
       "      <td>4</td>\n",
       "      <td>France</td>\n",
       "      <td>Agen</td>\n",
       "      <td>Agen is the most important (the prefecture) to...</td>\n",
       "      <td>44.2049</td>\n",
       "      <td>0.621153</td>\n",
       "    </tr>\n",
       "  </tbody>\n",
       "</table>\n",
       "</div>"
      ],
      "text/plain": [
       "   Unnamed: 0 Country       Name  \\\n",
       "0           0  France    Abbevie   \n",
       "1           1  France  Abondance   \n",
       "2           2  France       Agay   \n",
       "3           3  France       Agde   \n",
       "4           4  France       Agen   \n",
       "\n",
       "                                  Description(Intro)    Latitude   Longtude  \n",
       "0  Abbevie is an important town in the Somme regi...     50.1058     1.8358  \n",
       "1  Abondance is an attractive apine viage best kn...   46.279722   6.722778  \n",
       "2  Agay is a viage and coasta resort on the Cote ...  43.4313092  6.8558399  \n",
       "3  Agde is a ivey town on the Heraut river a few ...     43.3108    3.47583  \n",
       "4  Agen is the most important (the prefecture) to...     44.2049   0.621153  "
      ]
     },
     "execution_count": 15,
     "metadata": {},
     "output_type": "execute_result"
    }
   ],
   "source": [
    "df.head()"
   ]
  },
  {
   "cell_type": "code",
   "execution_count": 16,
   "metadata": {},
   "outputs": [
    {
     "data": {
      "text/plain": [
       "Unnamed: 0             int64\n",
       "Country               object\n",
       "Name                  object\n",
       "Description(Intro)    object\n",
       "Latitude              object\n",
       "Longtude              object\n",
       "dtype: object"
      ]
     },
     "execution_count": 16,
     "metadata": {},
     "output_type": "execute_result"
    }
   ],
   "source": [
    "df.dtypes"
   ]
  },
  {
   "cell_type": "code",
   "execution_count": 17,
   "metadata": {},
   "outputs": [],
   "source": [
    "def float_con1(x):\n",
    "    try:\n",
    "        x= float(x)\n",
    "        return x\n",
    "    except:\n",
    "        return None    "
   ]
  },
  {
   "cell_type": "code",
   "execution_count": 18,
   "metadata": {},
   "outputs": [],
   "source": [
    "df.Latitude= df.Latitude.apply(float_con1)"
   ]
  },
  {
   "cell_type": "code",
   "execution_count": 19,
   "metadata": {},
   "outputs": [
    {
     "data": {
      "text/html": [
       "<div>\n",
       "<style scoped>\n",
       "    .dataframe tbody tr th:only-of-type {\n",
       "        vertical-align: middle;\n",
       "    }\n",
       "\n",
       "    .dataframe tbody tr th {\n",
       "        vertical-align: top;\n",
       "    }\n",
       "\n",
       "    .dataframe thead th {\n",
       "        text-align: right;\n",
       "    }\n",
       "</style>\n",
       "<table border=\"1\" class=\"dataframe\">\n",
       "  <thead>\n",
       "    <tr style=\"text-align: right;\">\n",
       "      <th></th>\n",
       "      <th>Unnamed: 0</th>\n",
       "      <th>Country</th>\n",
       "      <th>Name</th>\n",
       "      <th>Description(Intro)</th>\n",
       "      <th>Latitude</th>\n",
       "      <th>Longtude</th>\n",
       "    </tr>\n",
       "  </thead>\n",
       "  <tbody>\n",
       "    <tr>\n",
       "      <th>0</th>\n",
       "      <td>0</td>\n",
       "      <td>France</td>\n",
       "      <td>Abbevie</td>\n",
       "      <td>Abbevie is an important town in the Somme regi...</td>\n",
       "      <td>50.105800</td>\n",
       "      <td>1.8358</td>\n",
       "    </tr>\n",
       "    <tr>\n",
       "      <th>1</th>\n",
       "      <td>1</td>\n",
       "      <td>France</td>\n",
       "      <td>Abondance</td>\n",
       "      <td>Abondance is an attractive apine viage best kn...</td>\n",
       "      <td>46.279722</td>\n",
       "      <td>6.722778</td>\n",
       "    </tr>\n",
       "    <tr>\n",
       "      <th>2</th>\n",
       "      <td>2</td>\n",
       "      <td>France</td>\n",
       "      <td>Agay</td>\n",
       "      <td>Agay is a viage and coasta resort on the Cote ...</td>\n",
       "      <td>43.431309</td>\n",
       "      <td>6.8558399</td>\n",
       "    </tr>\n",
       "    <tr>\n",
       "      <th>3</th>\n",
       "      <td>3</td>\n",
       "      <td>France</td>\n",
       "      <td>Agde</td>\n",
       "      <td>Agde is a ivey town on the Heraut river a few ...</td>\n",
       "      <td>43.310800</td>\n",
       "      <td>3.47583</td>\n",
       "    </tr>\n",
       "    <tr>\n",
       "      <th>4</th>\n",
       "      <td>4</td>\n",
       "      <td>France</td>\n",
       "      <td>Agen</td>\n",
       "      <td>Agen is the most important (the prefecture) to...</td>\n",
       "      <td>44.204900</td>\n",
       "      <td>0.621153</td>\n",
       "    </tr>\n",
       "    <tr>\n",
       "      <th>...</th>\n",
       "      <td>...</td>\n",
       "      <td>...</td>\n",
       "      <td>...</td>\n",
       "      <td>...</td>\n",
       "      <td>...</td>\n",
       "      <td>...</td>\n",
       "    </tr>\n",
       "    <tr>\n",
       "      <th>1148</th>\n",
       "      <td>1148</td>\n",
       "      <td>France</td>\n",
       "      <td>Viviers</td>\n",
       "      <td>Viviers is cated in the southern-centra part o...</td>\n",
       "      <td>44.483600</td>\n",
       "      <td>4.68972</td>\n",
       "    </tr>\n",
       "    <tr>\n",
       "      <th>1149</th>\n",
       "      <td>1149</td>\n",
       "      <td>France</td>\n",
       "      <td>Vizie</td>\n",
       "      <td>The sma town of Vizie is dominated by its arge...</td>\n",
       "      <td>45.075600</td>\n",
       "      <td>5.7732</td>\n",
       "    </tr>\n",
       "    <tr>\n",
       "      <th>1150</th>\n",
       "      <td>1150</td>\n",
       "      <td>France</td>\n",
       "      <td>Vogue</td>\n",
       "      <td>The viag of Vogue (correct French name Vogüé) ...</td>\n",
       "      <td>44.551400</td>\n",
       "      <td>4.41528</td>\n",
       "    </tr>\n",
       "    <tr>\n",
       "      <th>1151</th>\n",
       "      <td>1151</td>\n",
       "      <td>France</td>\n",
       "      <td>Vovic</td>\n",
       "      <td>The town of Vovic is cated in centra France, 1...</td>\n",
       "      <td>45.871000</td>\n",
       "      <td>3.0377</td>\n",
       "    </tr>\n",
       "    <tr>\n",
       "      <th>1152</th>\n",
       "      <td>1152</td>\n",
       "      <td>France</td>\n",
       "      <td>Vouvant</td>\n",
       "      <td>Vouvant is a viage 12 kimetres north of Fonten...</td>\n",
       "      <td>46.573000</td>\n",
       "      <td>-0.768</td>\n",
       "    </tr>\n",
       "  </tbody>\n",
       "</table>\n",
       "<p>1153 rows × 6 columns</p>\n",
       "</div>"
      ],
      "text/plain": [
       "      Unnamed: 0 Country       Name  \\\n",
       "0              0  France    Abbevie   \n",
       "1              1  France  Abondance   \n",
       "2              2  France       Agay   \n",
       "3              3  France       Agde   \n",
       "4              4  France       Agen   \n",
       "...          ...     ...        ...   \n",
       "1148        1148  France    Viviers   \n",
       "1149        1149  France      Vizie   \n",
       "1150        1150  France      Vogue   \n",
       "1151        1151  France      Vovic   \n",
       "1152        1152  France    Vouvant   \n",
       "\n",
       "                                     Description(Intro)   Latitude   Longtude  \n",
       "0     Abbevie is an important town in the Somme regi...  50.105800     1.8358  \n",
       "1     Abondance is an attractive apine viage best kn...  46.279722   6.722778  \n",
       "2     Agay is a viage and coasta resort on the Cote ...  43.431309  6.8558399  \n",
       "3     Agde is a ivey town on the Heraut river a few ...  43.310800    3.47583  \n",
       "4     Agen is the most important (the prefecture) to...  44.204900   0.621153  \n",
       "...                                                 ...        ...        ...  \n",
       "1148  Viviers is cated in the southern-centra part o...  44.483600    4.68972  \n",
       "1149  The sma town of Vizie is dominated by its arge...  45.075600     5.7732  \n",
       "1150  The viag of Vogue (correct French name Vogüé) ...  44.551400    4.41528  \n",
       "1151  The town of Vovic is cated in centra France, 1...  45.871000     3.0377  \n",
       "1152  Vouvant is a viage 12 kimetres north of Fonten...  46.573000     -0.768  \n",
       "\n",
       "[1153 rows x 6 columns]"
      ]
     },
     "execution_count": 19,
     "metadata": {},
     "output_type": "execute_result"
    }
   ],
   "source": [
    "df"
   ]
  },
  {
   "cell_type": "code",
   "execution_count": 20,
   "metadata": {},
   "outputs": [],
   "source": [
    "df1=df.copy()"
   ]
  },
  {
   "cell_type": "code",
   "execution_count": 21,
   "metadata": {},
   "outputs": [
    {
     "data": {
      "text/html": [
       "<div>\n",
       "<style scoped>\n",
       "    .dataframe tbody tr th:only-of-type {\n",
       "        vertical-align: middle;\n",
       "    }\n",
       "\n",
       "    .dataframe tbody tr th {\n",
       "        vertical-align: top;\n",
       "    }\n",
       "\n",
       "    .dataframe thead th {\n",
       "        text-align: right;\n",
       "    }\n",
       "</style>\n",
       "<table border=\"1\" class=\"dataframe\">\n",
       "  <thead>\n",
       "    <tr style=\"text-align: right;\">\n",
       "      <th></th>\n",
       "      <th>Unnamed: 0</th>\n",
       "      <th>Country</th>\n",
       "      <th>Name</th>\n",
       "      <th>Description(Intro)</th>\n",
       "      <th>Latitude</th>\n",
       "      <th>Longtude</th>\n",
       "    </tr>\n",
       "  </thead>\n",
       "  <tbody>\n",
       "    <tr>\n",
       "      <th>0</th>\n",
       "      <td>0</td>\n",
       "      <td>France</td>\n",
       "      <td>Abbevie</td>\n",
       "      <td>Abbevie is an important town in the Somme regi...</td>\n",
       "      <td>50.105800</td>\n",
       "      <td>1.8358</td>\n",
       "    </tr>\n",
       "    <tr>\n",
       "      <th>1</th>\n",
       "      <td>1</td>\n",
       "      <td>France</td>\n",
       "      <td>Abondance</td>\n",
       "      <td>Abondance is an attractive apine viage best kn...</td>\n",
       "      <td>46.279722</td>\n",
       "      <td>6.722778</td>\n",
       "    </tr>\n",
       "    <tr>\n",
       "      <th>2</th>\n",
       "      <td>2</td>\n",
       "      <td>France</td>\n",
       "      <td>Agay</td>\n",
       "      <td>Agay is a viage and coasta resort on the Cote ...</td>\n",
       "      <td>43.431309</td>\n",
       "      <td>6.8558399</td>\n",
       "    </tr>\n",
       "    <tr>\n",
       "      <th>3</th>\n",
       "      <td>3</td>\n",
       "      <td>France</td>\n",
       "      <td>Agde</td>\n",
       "      <td>Agde is a ivey town on the Heraut river a few ...</td>\n",
       "      <td>43.310800</td>\n",
       "      <td>3.47583</td>\n",
       "    </tr>\n",
       "    <tr>\n",
       "      <th>4</th>\n",
       "      <td>4</td>\n",
       "      <td>France</td>\n",
       "      <td>Agen</td>\n",
       "      <td>Agen is the most important (the prefecture) to...</td>\n",
       "      <td>44.204900</td>\n",
       "      <td>0.621153</td>\n",
       "    </tr>\n",
       "    <tr>\n",
       "      <th>...</th>\n",
       "      <td>...</td>\n",
       "      <td>...</td>\n",
       "      <td>...</td>\n",
       "      <td>...</td>\n",
       "      <td>...</td>\n",
       "      <td>...</td>\n",
       "    </tr>\n",
       "    <tr>\n",
       "      <th>1148</th>\n",
       "      <td>1148</td>\n",
       "      <td>France</td>\n",
       "      <td>Viviers</td>\n",
       "      <td>Viviers is cated in the southern-centra part o...</td>\n",
       "      <td>44.483600</td>\n",
       "      <td>4.68972</td>\n",
       "    </tr>\n",
       "    <tr>\n",
       "      <th>1149</th>\n",
       "      <td>1149</td>\n",
       "      <td>France</td>\n",
       "      <td>Vizie</td>\n",
       "      <td>The sma town of Vizie is dominated by its arge...</td>\n",
       "      <td>45.075600</td>\n",
       "      <td>5.7732</td>\n",
       "    </tr>\n",
       "    <tr>\n",
       "      <th>1150</th>\n",
       "      <td>1150</td>\n",
       "      <td>France</td>\n",
       "      <td>Vogue</td>\n",
       "      <td>The viag of Vogue (correct French name Vogüé) ...</td>\n",
       "      <td>44.551400</td>\n",
       "      <td>4.41528</td>\n",
       "    </tr>\n",
       "    <tr>\n",
       "      <th>1151</th>\n",
       "      <td>1151</td>\n",
       "      <td>France</td>\n",
       "      <td>Vovic</td>\n",
       "      <td>The town of Vovic is cated in centra France, 1...</td>\n",
       "      <td>45.871000</td>\n",
       "      <td>3.0377</td>\n",
       "    </tr>\n",
       "    <tr>\n",
       "      <th>1152</th>\n",
       "      <td>1152</td>\n",
       "      <td>France</td>\n",
       "      <td>Vouvant</td>\n",
       "      <td>Vouvant is a viage 12 kimetres north of Fonten...</td>\n",
       "      <td>46.573000</td>\n",
       "      <td>-0.768</td>\n",
       "    </tr>\n",
       "  </tbody>\n",
       "</table>\n",
       "<p>1153 rows × 6 columns</p>\n",
       "</div>"
      ],
      "text/plain": [
       "      Unnamed: 0 Country       Name  \\\n",
       "0              0  France    Abbevie   \n",
       "1              1  France  Abondance   \n",
       "2              2  France       Agay   \n",
       "3              3  France       Agde   \n",
       "4              4  France       Agen   \n",
       "...          ...     ...        ...   \n",
       "1148        1148  France    Viviers   \n",
       "1149        1149  France      Vizie   \n",
       "1150        1150  France      Vogue   \n",
       "1151        1151  France      Vovic   \n",
       "1152        1152  France    Vouvant   \n",
       "\n",
       "                                     Description(Intro)   Latitude   Longtude  \n",
       "0     Abbevie is an important town in the Somme regi...  50.105800     1.8358  \n",
       "1     Abondance is an attractive apine viage best kn...  46.279722   6.722778  \n",
       "2     Agay is a viage and coasta resort on the Cote ...  43.431309  6.8558399  \n",
       "3     Agde is a ivey town on the Heraut river a few ...  43.310800    3.47583  \n",
       "4     Agen is the most important (the prefecture) to...  44.204900   0.621153  \n",
       "...                                                 ...        ...        ...  \n",
       "1148  Viviers is cated in the southern-centra part o...  44.483600    4.68972  \n",
       "1149  The sma town of Vizie is dominated by its arge...  45.075600     5.7732  \n",
       "1150  The viag of Vogue (correct French name Vogüé) ...  44.551400    4.41528  \n",
       "1151  The town of Vovic is cated in centra France, 1...  45.871000     3.0377  \n",
       "1152  Vouvant is a viage 12 kimetres north of Fonten...  46.573000     -0.768  \n",
       "\n",
       "[1153 rows x 6 columns]"
      ]
     },
     "execution_count": 21,
     "metadata": {},
     "output_type": "execute_result"
    }
   ],
   "source": [
    "df1"
   ]
  },
  {
   "cell_type": "code",
   "execution_count": 22,
   "metadata": {},
   "outputs": [
    {
     "data": {
      "text/plain": [
       "Unnamed: 0              int64\n",
       "Country                object\n",
       "Name                   object\n",
       "Description(Intro)     object\n",
       "Latitude              float64\n",
       "Longtude               object\n",
       "dtype: object"
      ]
     },
     "execution_count": 22,
     "metadata": {},
     "output_type": "execute_result"
    }
   ],
   "source": [
    "df.dtypes"
   ]
  },
  {
   "cell_type": "code",
   "execution_count": 23,
   "metadata": {},
   "outputs": [],
   "source": [
    "file= 'new_frenach1.csv'\n",
    "df1.to_csv(file)"
   ]
  },
  {
   "cell_type": "code",
   "execution_count": 24,
   "metadata": {},
   "outputs": [],
   "source": [
    "df= pd.read_csv('new_frenach1.csv')"
   ]
  },
  {
   "cell_type": "code",
   "execution_count": 25,
   "metadata": {},
   "outputs": [
    {
     "data": {
      "text/plain": [
       "Unnamed: 0.1            int64\n",
       "Unnamed: 0              int64\n",
       "Country                object\n",
       "Name                   object\n",
       "Description(Intro)     object\n",
       "Latitude              float64\n",
       "Longtude               object\n",
       "dtype: object"
      ]
     },
     "execution_count": 25,
     "metadata": {},
     "output_type": "execute_result"
    }
   ],
   "source": [
    "df.dtypes"
   ]
  },
  {
   "cell_type": "code",
   "execution_count": 26,
   "metadata": {},
   "outputs": [],
   "source": [
    "df.Longtude= df.Longtude.apply(float_con1)  "
   ]
  },
  {
   "cell_type": "code",
   "execution_count": 27,
   "metadata": {},
   "outputs": [
    {
     "data": {
      "text/plain": [
       "Unnamed: 0.1            int64\n",
       "Unnamed: 0              int64\n",
       "Country                object\n",
       "Name                   object\n",
       "Description(Intro)     object\n",
       "Latitude              float64\n",
       "Longtude              float64\n",
       "dtype: object"
      ]
     },
     "execution_count": 27,
     "metadata": {},
     "output_type": "execute_result"
    }
   ],
   "source": [
    "df.dtypes"
   ]
  },
  {
   "cell_type": "code",
   "execution_count": 28,
   "metadata": {},
   "outputs": [],
   "source": [
    "file= 'new_frenach2.csv'\n",
    "df.to_csv(file)"
   ]
  },
  {
   "cell_type": "code",
   "execution_count": 29,
   "metadata": {},
   "outputs": [],
   "source": [
    "df_geo= gpd.GeoDataFrame(df, geometry= gpd.points_from_xy(df.Latitude,df.Longtude))"
   ]
  },
  {
   "cell_type": "code",
   "execution_count": 30,
   "metadata": {},
   "outputs": [
    {
     "data": {
      "text/html": [
       "<div>\n",
       "<style scoped>\n",
       "    .dataframe tbody tr th:only-of-type {\n",
       "        vertical-align: middle;\n",
       "    }\n",
       "\n",
       "    .dataframe tbody tr th {\n",
       "        vertical-align: top;\n",
       "    }\n",
       "\n",
       "    .dataframe thead th {\n",
       "        text-align: right;\n",
       "    }\n",
       "</style>\n",
       "<table border=\"1\" class=\"dataframe\">\n",
       "  <thead>\n",
       "    <tr style=\"text-align: right;\">\n",
       "      <th></th>\n",
       "      <th>Unnamed: 0.1</th>\n",
       "      <th>Unnamed: 0</th>\n",
       "      <th>Country</th>\n",
       "      <th>Name</th>\n",
       "      <th>Description(Intro)</th>\n",
       "      <th>Latitude</th>\n",
       "      <th>Longtude</th>\n",
       "      <th>geometry</th>\n",
       "    </tr>\n",
       "  </thead>\n",
       "  <tbody>\n",
       "    <tr>\n",
       "      <th>0</th>\n",
       "      <td>0</td>\n",
       "      <td>0</td>\n",
       "      <td>France</td>\n",
       "      <td>Abbevie</td>\n",
       "      <td>Abbevie is an important town in the Somme regi...</td>\n",
       "      <td>50.105800</td>\n",
       "      <td>1.835800</td>\n",
       "      <td>POINT (50.10580 1.83580)</td>\n",
       "    </tr>\n",
       "    <tr>\n",
       "      <th>1</th>\n",
       "      <td>1</td>\n",
       "      <td>1</td>\n",
       "      <td>France</td>\n",
       "      <td>Abondance</td>\n",
       "      <td>Abondance is an attractive apine viage best kn...</td>\n",
       "      <td>46.279722</td>\n",
       "      <td>6.722778</td>\n",
       "      <td>POINT (46.27972 6.72278)</td>\n",
       "    </tr>\n",
       "    <tr>\n",
       "      <th>2</th>\n",
       "      <td>2</td>\n",
       "      <td>2</td>\n",
       "      <td>France</td>\n",
       "      <td>Agay</td>\n",
       "      <td>Agay is a viage and coasta resort on the Cote ...</td>\n",
       "      <td>43.431309</td>\n",
       "      <td>6.855840</td>\n",
       "      <td>POINT (43.43131 6.85584)</td>\n",
       "    </tr>\n",
       "    <tr>\n",
       "      <th>3</th>\n",
       "      <td>3</td>\n",
       "      <td>3</td>\n",
       "      <td>France</td>\n",
       "      <td>Agde</td>\n",
       "      <td>Agde is a ivey town on the Heraut river a few ...</td>\n",
       "      <td>43.310800</td>\n",
       "      <td>3.475830</td>\n",
       "      <td>POINT (43.31080 3.47583)</td>\n",
       "    </tr>\n",
       "    <tr>\n",
       "      <th>4</th>\n",
       "      <td>4</td>\n",
       "      <td>4</td>\n",
       "      <td>France</td>\n",
       "      <td>Agen</td>\n",
       "      <td>Agen is the most important (the prefecture) to...</td>\n",
       "      <td>44.204900</td>\n",
       "      <td>0.621153</td>\n",
       "      <td>POINT (44.20490 0.62115)</td>\n",
       "    </tr>\n",
       "    <tr>\n",
       "      <th>...</th>\n",
       "      <td>...</td>\n",
       "      <td>...</td>\n",
       "      <td>...</td>\n",
       "      <td>...</td>\n",
       "      <td>...</td>\n",
       "      <td>...</td>\n",
       "      <td>...</td>\n",
       "      <td>...</td>\n",
       "    </tr>\n",
       "    <tr>\n",
       "      <th>1148</th>\n",
       "      <td>1148</td>\n",
       "      <td>1148</td>\n",
       "      <td>France</td>\n",
       "      <td>Viviers</td>\n",
       "      <td>Viviers is cated in the southern-centra part o...</td>\n",
       "      <td>44.483600</td>\n",
       "      <td>4.689720</td>\n",
       "      <td>POINT (44.48360 4.68972)</td>\n",
       "    </tr>\n",
       "    <tr>\n",
       "      <th>1149</th>\n",
       "      <td>1149</td>\n",
       "      <td>1149</td>\n",
       "      <td>France</td>\n",
       "      <td>Vizie</td>\n",
       "      <td>The sma town of Vizie is dominated by its arge...</td>\n",
       "      <td>45.075600</td>\n",
       "      <td>5.773200</td>\n",
       "      <td>POINT (45.07560 5.77320)</td>\n",
       "    </tr>\n",
       "    <tr>\n",
       "      <th>1150</th>\n",
       "      <td>1150</td>\n",
       "      <td>1150</td>\n",
       "      <td>France</td>\n",
       "      <td>Vogue</td>\n",
       "      <td>The viag of Vogue (correct French name Vogüé) ...</td>\n",
       "      <td>44.551400</td>\n",
       "      <td>4.415280</td>\n",
       "      <td>POINT (44.55140 4.41528)</td>\n",
       "    </tr>\n",
       "    <tr>\n",
       "      <th>1151</th>\n",
       "      <td>1151</td>\n",
       "      <td>1151</td>\n",
       "      <td>France</td>\n",
       "      <td>Vovic</td>\n",
       "      <td>The town of Vovic is cated in centra France, 1...</td>\n",
       "      <td>45.871000</td>\n",
       "      <td>3.037700</td>\n",
       "      <td>POINT (45.87100 3.03770)</td>\n",
       "    </tr>\n",
       "    <tr>\n",
       "      <th>1152</th>\n",
       "      <td>1152</td>\n",
       "      <td>1152</td>\n",
       "      <td>France</td>\n",
       "      <td>Vouvant</td>\n",
       "      <td>Vouvant is a viage 12 kimetres north of Fonten...</td>\n",
       "      <td>46.573000</td>\n",
       "      <td>-0.768000</td>\n",
       "      <td>POINT (46.57300 -0.76800)</td>\n",
       "    </tr>\n",
       "  </tbody>\n",
       "</table>\n",
       "<p>1153 rows × 8 columns</p>\n",
       "</div>"
      ],
      "text/plain": [
       "      Unnamed: 0.1  Unnamed: 0 Country       Name  \\\n",
       "0                0           0  France    Abbevie   \n",
       "1                1           1  France  Abondance   \n",
       "2                2           2  France       Agay   \n",
       "3                3           3  France       Agde   \n",
       "4                4           4  France       Agen   \n",
       "...            ...         ...     ...        ...   \n",
       "1148          1148        1148  France    Viviers   \n",
       "1149          1149        1149  France      Vizie   \n",
       "1150          1150        1150  France      Vogue   \n",
       "1151          1151        1151  France      Vovic   \n",
       "1152          1152        1152  France    Vouvant   \n",
       "\n",
       "                                     Description(Intro)   Latitude  Longtude  \\\n",
       "0     Abbevie is an important town in the Somme regi...  50.105800  1.835800   \n",
       "1     Abondance is an attractive apine viage best kn...  46.279722  6.722778   \n",
       "2     Agay is a viage and coasta resort on the Cote ...  43.431309  6.855840   \n",
       "3     Agde is a ivey town on the Heraut river a few ...  43.310800  3.475830   \n",
       "4     Agen is the most important (the prefecture) to...  44.204900  0.621153   \n",
       "...                                                 ...        ...       ...   \n",
       "1148  Viviers is cated in the southern-centra part o...  44.483600  4.689720   \n",
       "1149  The sma town of Vizie is dominated by its arge...  45.075600  5.773200   \n",
       "1150  The viag of Vogue (correct French name Vogüé) ...  44.551400  4.415280   \n",
       "1151  The town of Vovic is cated in centra France, 1...  45.871000  3.037700   \n",
       "1152  Vouvant is a viage 12 kimetres north of Fonten...  46.573000 -0.768000   \n",
       "\n",
       "                       geometry  \n",
       "0      POINT (50.10580 1.83580)  \n",
       "1      POINT (46.27972 6.72278)  \n",
       "2      POINT (43.43131 6.85584)  \n",
       "3      POINT (43.31080 3.47583)  \n",
       "4      POINT (44.20490 0.62115)  \n",
       "...                         ...  \n",
       "1148   POINT (44.48360 4.68972)  \n",
       "1149   POINT (45.07560 5.77320)  \n",
       "1150   POINT (44.55140 4.41528)  \n",
       "1151   POINT (45.87100 3.03770)  \n",
       "1152  POINT (46.57300 -0.76800)  \n",
       "\n",
       "[1153 rows x 8 columns]"
      ]
     },
     "execution_count": 30,
     "metadata": {},
     "output_type": "execute_result"
    }
   ],
   "source": [
    "df_geo"
   ]
  },
  {
   "cell_type": "code",
   "execution_count": 73,
   "metadata": {},
   "outputs": [],
   "source": [
    "## built-in dataset from geopandas"
   ]
  },
  {
   "cell_type": "code",
   "execution_count": 31,
   "metadata": {},
   "outputs": [],
   "source": [
    "world_data= gpd.read_file(gpd.datasets.get_path('naturalearth_lowres'))"
   ]
  },
  {
   "cell_type": "code",
   "execution_count": 32,
   "metadata": {},
   "outputs": [
    {
     "data": {
      "image/png": "[encoded data removed]",
      "text/plain": [
       "<Figure size 900x600 with 1 Axes>"
      ]
     },
     "metadata": {},
     "output_type": "display_data"
    }
   ],
   "source": [
    "#plot world Map\n",
    "axis= world_data[world_data.continent=='Europe'].plot(color= 'lightblue',edgecolor='black')\n",
    "\n",
    "df_geo.plot(ax= axis, color= 'red')\n",
    "plt.title('points')\n",
    "\n",
    "fig= matplotlib.pyplot.gcf()\n",
    "fig.set_size_inches(9,6)\n",
    "fig.savefig('matplotlib.png', dpi= 200)\n",
    "plt.show()"
   ]
  },
  {
   "cell_type": "code",
   "execution_count": null,
   "metadata": {},
   "outputs": [],
   "source": []
  }
 ],
 "metadata": {
  "kernelspec": {
   "display_name": "Python 3.9.13 ('base')",
   "language": "python",
   "name": "python3"
  },
  "language_info": {
   "codemirror_mode": {
    "name": "ipython",
    "version": 3
   },
   "file_extension": ".py",
   "mimetype": "text/x-python",
   "name": "python",
   "nbconvert_exporter": "python",
   "pygments_lexer": "ipython3",
   "version": "3.9.13"
  },
  "orig_nbformat": 4,
  "vscode": {
   "interpreter": {
    "hash": "610a6f344c2137faf927ea819c63f6cee33a2c04455044b28099f39fe9722347"
   }
  }
 },
 "nbformat": 4,
 "nbformat_minor": 2
}
